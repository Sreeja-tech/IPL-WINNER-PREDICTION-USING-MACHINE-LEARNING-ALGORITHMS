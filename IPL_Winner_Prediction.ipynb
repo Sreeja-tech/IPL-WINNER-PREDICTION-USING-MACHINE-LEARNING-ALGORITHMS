{
  "cells": [
    {
      "cell_type": "code",
      "execution_count": null,
      "id": "6048f994",
      "metadata": {
        "id": "6048f994"
      },
      "outputs": [],
      "source": [
        "#Importing required libraries\n",
        "import matplotlib.pyplot as plt\n",
        "import pandas as pd\n",
        "import numpy as np\n",
        "import os\n",
        "import seaborn as sns\n",
        "import sklearn"
      ]
    },
    {
      "cell_type": "code",
      "execution_count": null,
      "id": "d8a372cc",
      "metadata": {
        "id": "d8a372cc",
        "outputId": "0eff2565-42b3-4947-96ef-2b3be8dd8bba"
      },
      "outputs": [
        {
          "data": {
            "text/html": [
              "<div>\n",
              "<style scoped>\n",
              "    .dataframe tbody tr th:only-of-type {\n",
              "        vertical-align: middle;\n",
              "    }\n",
              "\n",
              "    .dataframe tbody tr th {\n",
              "        vertical-align: top;\n",
              "    }\n",
              "\n",
              "    .dataframe thead th {\n",
              "        text-align: right;\n",
              "    }\n",
              "</style>\n",
              "<table border=\"1\" class=\"dataframe\">\n",
              "  <thead>\n",
              "    <tr style=\"text-align: right;\">\n",
              "      <th></th>\n",
              "      <th>id</th>\n",
              "      <th>season</th>\n",
              "      <th>city</th>\n",
              "      <th>date</th>\n",
              "      <th>team1</th>\n",
              "      <th>team2</th>\n",
              "      <th>toss_winner</th>\n",
              "      <th>toss_decision</th>\n",
              "      <th>result</th>\n",
              "      <th>dl_applied</th>\n",
              "      <th>winner</th>\n",
              "      <th>win_by_runs</th>\n",
              "      <th>win_by_wickets</th>\n",
              "      <th>player_of_match</th>\n",
              "      <th>venue</th>\n",
              "      <th>umpire1</th>\n",
              "      <th>umpire2</th>\n",
              "      <th>umpire3</th>\n",
              "    </tr>\n",
              "  </thead>\n",
              "  <tbody>\n",
              "    <tr>\n",
              "      <th>0</th>\n",
              "      <td>1</td>\n",
              "      <td>2008</td>\n",
              "      <td>Bangalore</td>\n",
              "      <td>2008-04-18</td>\n",
              "      <td>Kolkata Knight Riders</td>\n",
              "      <td>Royal Challengers Bangalore</td>\n",
              "      <td>Royal Challengers Bangalore</td>\n",
              "      <td>field</td>\n",
              "      <td>normal</td>\n",
              "      <td>0</td>\n",
              "      <td>Kolkata Knight Riders</td>\n",
              "      <td>140</td>\n",
              "      <td>0</td>\n",
              "      <td>BB McCullum</td>\n",
              "      <td>M Chinnaswamy Stadium</td>\n",
              "      <td>Asad Rauf</td>\n",
              "      <td>RE Koertzen</td>\n",
              "      <td>NaN</td>\n",
              "    </tr>\n",
              "    <tr>\n",
              "      <th>1</th>\n",
              "      <td>2</td>\n",
              "      <td>2008</td>\n",
              "      <td>Chandigarh</td>\n",
              "      <td>2008-04-19</td>\n",
              "      <td>Chennai Super Kings</td>\n",
              "      <td>Kings XI Punjab</td>\n",
              "      <td>Chennai Super Kings</td>\n",
              "      <td>bat</td>\n",
              "      <td>normal</td>\n",
              "      <td>0</td>\n",
              "      <td>Chennai Super Kings</td>\n",
              "      <td>33</td>\n",
              "      <td>0</td>\n",
              "      <td>MEK Hussey</td>\n",
              "      <td>Punjab Cricket Association Stadium, Mohali</td>\n",
              "      <td>MR Benson</td>\n",
              "      <td>SL Shastri</td>\n",
              "      <td>NaN</td>\n",
              "    </tr>\n",
              "    <tr>\n",
              "      <th>2</th>\n",
              "      <td>3</td>\n",
              "      <td>2008</td>\n",
              "      <td>Delhi</td>\n",
              "      <td>2008-04-19</td>\n",
              "      <td>Rajasthan Royals</td>\n",
              "      <td>Delhi Daredevils</td>\n",
              "      <td>Rajasthan Royals</td>\n",
              "      <td>bat</td>\n",
              "      <td>normal</td>\n",
              "      <td>0</td>\n",
              "      <td>Delhi Daredevils</td>\n",
              "      <td>0</td>\n",
              "      <td>9</td>\n",
              "      <td>MF Maharoof</td>\n",
              "      <td>Feroz Shah Kotla</td>\n",
              "      <td>Aleem Dar</td>\n",
              "      <td>GA Pratapkumar</td>\n",
              "      <td>NaN</td>\n",
              "    </tr>\n",
              "    <tr>\n",
              "      <th>3</th>\n",
              "      <td>4</td>\n",
              "      <td>2008</td>\n",
              "      <td>Mumbai</td>\n",
              "      <td>2008-04-20</td>\n",
              "      <td>Mumbai Indians</td>\n",
              "      <td>Royal Challengers Bangalore</td>\n",
              "      <td>Mumbai Indians</td>\n",
              "      <td>bat</td>\n",
              "      <td>normal</td>\n",
              "      <td>0</td>\n",
              "      <td>Royal Challengers Bangalore</td>\n",
              "      <td>0</td>\n",
              "      <td>5</td>\n",
              "      <td>MV Boucher</td>\n",
              "      <td>Wankhede Stadium</td>\n",
              "      <td>SJ Davis</td>\n",
              "      <td>DJ Harper</td>\n",
              "      <td>NaN</td>\n",
              "    </tr>\n",
              "    <tr>\n",
              "      <th>4</th>\n",
              "      <td>5</td>\n",
              "      <td>2008</td>\n",
              "      <td>Kolkata</td>\n",
              "      <td>2008-04-20</td>\n",
              "      <td>Deccan Chargers</td>\n",
              "      <td>Kolkata Knight Riders</td>\n",
              "      <td>Deccan Chargers</td>\n",
              "      <td>bat</td>\n",
              "      <td>normal</td>\n",
              "      <td>0</td>\n",
              "      <td>Kolkata Knight Riders</td>\n",
              "      <td>0</td>\n",
              "      <td>5</td>\n",
              "      <td>DJ Hussey</td>\n",
              "      <td>Eden Gardens</td>\n",
              "      <td>BF Bowden</td>\n",
              "      <td>K Hariharan</td>\n",
              "      <td>NaN</td>\n",
              "    </tr>\n",
              "  </tbody>\n",
              "</table>\n",
              "</div>"
            ],
            "text/plain": [
              "   id  season        city        date                  team1  \\\n",
              "0   1    2008   Bangalore  2008-04-18  Kolkata Knight Riders   \n",
              "1   2    2008  Chandigarh  2008-04-19    Chennai Super Kings   \n",
              "2   3    2008       Delhi  2008-04-19       Rajasthan Royals   \n",
              "3   4    2008      Mumbai  2008-04-20         Mumbai Indians   \n",
              "4   5    2008     Kolkata  2008-04-20        Deccan Chargers   \n",
              "\n",
              "                         team2                  toss_winner toss_decision  \\\n",
              "0  Royal Challengers Bangalore  Royal Challengers Bangalore         field   \n",
              "1              Kings XI Punjab          Chennai Super Kings           bat   \n",
              "2             Delhi Daredevils             Rajasthan Royals           bat   \n",
              "3  Royal Challengers Bangalore               Mumbai Indians           bat   \n",
              "4        Kolkata Knight Riders              Deccan Chargers           bat   \n",
              "\n",
              "   result  dl_applied                       winner  win_by_runs  \\\n",
              "0  normal           0        Kolkata Knight Riders          140   \n",
              "1  normal           0          Chennai Super Kings           33   \n",
              "2  normal           0             Delhi Daredevils            0   \n",
              "3  normal           0  Royal Challengers Bangalore            0   \n",
              "4  normal           0        Kolkata Knight Riders            0   \n",
              "\n",
              "   win_by_wickets player_of_match                                       venue  \\\n",
              "0               0     BB McCullum                       M Chinnaswamy Stadium   \n",
              "1               0      MEK Hussey  Punjab Cricket Association Stadium, Mohali   \n",
              "2               9     MF Maharoof                            Feroz Shah Kotla   \n",
              "3               5      MV Boucher                            Wankhede Stadium   \n",
              "4               5       DJ Hussey                                Eden Gardens   \n",
              "\n",
              "     umpire1         umpire2  umpire3  \n",
              "0  Asad Rauf     RE Koertzen      NaN  \n",
              "1  MR Benson      SL Shastri      NaN  \n",
              "2  Aleem Dar  GA Pratapkumar      NaN  \n",
              "3   SJ Davis       DJ Harper      NaN  \n",
              "4  BF Bowden     K Hariharan      NaN  "
            ]
          },
          "execution_count": 2,
          "metadata": {},
          "output_type": "execute_result"
        }
      ],
      "source": [
        "#Reading & storing dataset\n",
        "data = pd.read_csv('matches.csv')\n",
        "data.head()"
      ]
    },
    {
      "cell_type": "markdown",
      "id": "235eef23",
      "metadata": {
        "id": "235eef23"
      },
      "source": [
        "# Exploratory Data Analysis"
      ]
    },
    {
      "cell_type": "code",
      "execution_count": null,
      "id": "53a9468f",
      "metadata": {
        "id": "53a9468f",
        "outputId": "f617ac59-d2b0-48f1-f01c-41382341588e"
      },
      "outputs": [
        {
          "data": {
            "text/html": [
              "<div>\n",
              "<style scoped>\n",
              "    .dataframe tbody tr th:only-of-type {\n",
              "        vertical-align: middle;\n",
              "    }\n",
              "\n",
              "    .dataframe tbody tr th {\n",
              "        vertical-align: top;\n",
              "    }\n",
              "\n",
              "    .dataframe thead th {\n",
              "        text-align: right;\n",
              "    }\n",
              "</style>\n",
              "<table border=\"1\" class=\"dataframe\">\n",
              "  <thead>\n",
              "    <tr style=\"text-align: right;\">\n",
              "      <th></th>\n",
              "      <th>id</th>\n",
              "      <th>season</th>\n",
              "      <th>dl_applied</th>\n",
              "      <th>win_by_runs</th>\n",
              "      <th>win_by_wickets</th>\n",
              "      <th>umpire3</th>\n",
              "    </tr>\n",
              "  </thead>\n",
              "  <tbody>\n",
              "    <tr>\n",
              "      <th>count</th>\n",
              "      <td>577.000000</td>\n",
              "      <td>577.000000</td>\n",
              "      <td>577.000000</td>\n",
              "      <td>577.000000</td>\n",
              "      <td>577.000000</td>\n",
              "      <td>0.0</td>\n",
              "    </tr>\n",
              "    <tr>\n",
              "      <th>mean</th>\n",
              "      <td>289.000000</td>\n",
              "      <td>2012.029463</td>\n",
              "      <td>0.025997</td>\n",
              "      <td>13.715771</td>\n",
              "      <td>3.363951</td>\n",
              "      <td>NaN</td>\n",
              "    </tr>\n",
              "    <tr>\n",
              "      <th>std</th>\n",
              "      <td>166.709828</td>\n",
              "      <td>2.486247</td>\n",
              "      <td>0.159263</td>\n",
              "      <td>23.619282</td>\n",
              "      <td>3.416049</td>\n",
              "      <td>NaN</td>\n",
              "    </tr>\n",
              "    <tr>\n",
              "      <th>min</th>\n",
              "      <td>1.000000</td>\n",
              "      <td>2008.000000</td>\n",
              "      <td>0.000000</td>\n",
              "      <td>0.000000</td>\n",
              "      <td>0.000000</td>\n",
              "      <td>NaN</td>\n",
              "    </tr>\n",
              "    <tr>\n",
              "      <th>25%</th>\n",
              "      <td>145.000000</td>\n",
              "      <td>2010.000000</td>\n",
              "      <td>0.000000</td>\n",
              "      <td>0.000000</td>\n",
              "      <td>0.000000</td>\n",
              "      <td>NaN</td>\n",
              "    </tr>\n",
              "    <tr>\n",
              "      <th>50%</th>\n",
              "      <td>289.000000</td>\n",
              "      <td>2012.000000</td>\n",
              "      <td>0.000000</td>\n",
              "      <td>0.000000</td>\n",
              "      <td>3.000000</td>\n",
              "      <td>NaN</td>\n",
              "    </tr>\n",
              "    <tr>\n",
              "      <th>75%</th>\n",
              "      <td>433.000000</td>\n",
              "      <td>2014.000000</td>\n",
              "      <td>0.000000</td>\n",
              "      <td>20.000000</td>\n",
              "      <td>6.000000</td>\n",
              "      <td>NaN</td>\n",
              "    </tr>\n",
              "    <tr>\n",
              "      <th>max</th>\n",
              "      <td>577.000000</td>\n",
              "      <td>2016.000000</td>\n",
              "      <td>1.000000</td>\n",
              "      <td>144.000000</td>\n",
              "      <td>10.000000</td>\n",
              "      <td>NaN</td>\n",
              "    </tr>\n",
              "  </tbody>\n",
              "</table>\n",
              "</div>"
            ],
            "text/plain": [
              "               id       season  dl_applied  win_by_runs  win_by_wickets  \\\n",
              "count  577.000000   577.000000  577.000000   577.000000      577.000000   \n",
              "mean   289.000000  2012.029463    0.025997    13.715771        3.363951   \n",
              "std    166.709828     2.486247    0.159263    23.619282        3.416049   \n",
              "min      1.000000  2008.000000    0.000000     0.000000        0.000000   \n",
              "25%    145.000000  2010.000000    0.000000     0.000000        0.000000   \n",
              "50%    289.000000  2012.000000    0.000000     0.000000        3.000000   \n",
              "75%    433.000000  2014.000000    0.000000    20.000000        6.000000   \n",
              "max    577.000000  2016.000000    1.000000   144.000000       10.000000   \n",
              "\n",
              "       umpire3  \n",
              "count      0.0  \n",
              "mean       NaN  \n",
              "std        NaN  \n",
              "min        NaN  \n",
              "25%        NaN  \n",
              "50%        NaN  \n",
              "75%        NaN  \n",
              "max        NaN  "
            ]
          },
          "execution_count": 3,
          "metadata": {},
          "output_type": "execute_result"
        }
      ],
      "source": [
        "#Statistical analysis of the data\n",
        "data.describe()"
      ]
    },
    {
      "cell_type": "code",
      "execution_count": null,
      "id": "f33f041b",
      "metadata": {
        "id": "f33f041b",
        "outputId": "a081691e-5d74-43df-db19-1337e15aefcc"
      },
      "outputs": [
        {
          "name": "stdout",
          "output_type": "stream",
          "text": [
            "<class 'pandas.core.frame.DataFrame'>\n",
            "RangeIndex: 577 entries, 0 to 576\n",
            "Data columns (total 18 columns):\n",
            " #   Column           Non-Null Count  Dtype  \n",
            "---  ------           --------------  -----  \n",
            " 0   id               577 non-null    int64  \n",
            " 1   season           577 non-null    int64  \n",
            " 2   city             570 non-null    object \n",
            " 3   date             577 non-null    object \n",
            " 4   team1            577 non-null    object \n",
            " 5   team2            577 non-null    object \n",
            " 6   toss_winner      577 non-null    object \n",
            " 7   toss_decision    577 non-null    object \n",
            " 8   result           577 non-null    object \n",
            " 9   dl_applied       577 non-null    int64  \n",
            " 10  winner           574 non-null    object \n",
            " 11  win_by_runs      577 non-null    int64  \n",
            " 12  win_by_wickets   577 non-null    int64  \n",
            " 13  player_of_match  574 non-null    object \n",
            " 14  venue            577 non-null    object \n",
            " 15  umpire1          577 non-null    object \n",
            " 16  umpire2          577 non-null    object \n",
            " 17  umpire3          0 non-null      float64\n",
            "dtypes: float64(1), int64(5), object(12)\n",
            "memory usage: 81.3+ KB\n"
          ]
        }
      ],
      "source": [
        "#Information of the data at a glance\n",
        "data.info()"
      ]
    },
    {
      "cell_type": "code",
      "execution_count": null,
      "id": "afa426e6",
      "metadata": {
        "id": "afa426e6",
        "outputId": "88ac09b5-5e7a-4026-e9cd-540cb70a8d0a"
      },
      "outputs": [
        {
          "data": {
            "text/plain": [
              "id                   0\n",
              "season               0\n",
              "city                 7\n",
              "date                 0\n",
              "team1                0\n",
              "team2                0\n",
              "toss_winner          0\n",
              "toss_decision        0\n",
              "result               0\n",
              "dl_applied           0\n",
              "winner               3\n",
              "win_by_runs          0\n",
              "win_by_wickets       0\n",
              "player_of_match      3\n",
              "venue                0\n",
              "umpire1              0\n",
              "umpire2              0\n",
              "umpire3            577\n",
              "dtype: int64"
            ]
          },
          "execution_count": 5,
          "metadata": {},
          "output_type": "execute_result"
        }
      ],
      "source": [
        "#Checking for null values\n",
        "data.isnull().sum()"
      ]
    },
    {
      "cell_type": "code",
      "execution_count": null,
      "id": "0e98012f",
      "metadata": {
        "id": "0e98012f"
      },
      "outputs": [],
      "source": [
        "#The column 'umpire3' contains a considerable amount of NaN values.\n",
        "#Since the off-field umpire parameter is inconsequential, we can eliminate this column.\n",
        "data = data.drop(columns=['umpire3'], axis=1)"
      ]
    },
    {
      "cell_type": "code",
      "execution_count": null,
      "id": "4c7f0149",
      "metadata": {
        "id": "4c7f0149",
        "outputId": "f4bcc48c-88f0-4dda-8265-98e08d6a5902"
      },
      "outputs": [
        {
          "data": {
            "text/html": [
              "<div>\n",
              "<style scoped>\n",
              "    .dataframe tbody tr th:only-of-type {\n",
              "        vertical-align: middle;\n",
              "    }\n",
              "\n",
              "    .dataframe tbody tr th {\n",
              "        vertical-align: top;\n",
              "    }\n",
              "\n",
              "    .dataframe thead th {\n",
              "        text-align: right;\n",
              "    }\n",
              "</style>\n",
              "<table border=\"1\" class=\"dataframe\">\n",
              "  <thead>\n",
              "    <tr style=\"text-align: right;\">\n",
              "      <th></th>\n",
              "      <th>id</th>\n",
              "      <th>season</th>\n",
              "      <th>city</th>\n",
              "      <th>date</th>\n",
              "      <th>team1</th>\n",
              "      <th>team2</th>\n",
              "      <th>toss_winner</th>\n",
              "      <th>toss_decision</th>\n",
              "      <th>result</th>\n",
              "      <th>dl_applied</th>\n",
              "      <th>winner</th>\n",
              "      <th>win_by_runs</th>\n",
              "      <th>win_by_wickets</th>\n",
              "      <th>player_of_match</th>\n",
              "      <th>venue</th>\n",
              "      <th>umpire1</th>\n",
              "      <th>umpire2</th>\n",
              "    </tr>\n",
              "  </thead>\n",
              "  <tbody>\n",
              "    <tr>\n",
              "      <th>0</th>\n",
              "      <td>1</td>\n",
              "      <td>2008</td>\n",
              "      <td>Bangalore</td>\n",
              "      <td>2008-04-18</td>\n",
              "      <td>Kolkata Knight Riders</td>\n",
              "      <td>Royal Challengers Bangalore</td>\n",
              "      <td>Royal Challengers Bangalore</td>\n",
              "      <td>field</td>\n",
              "      <td>normal</td>\n",
              "      <td>0</td>\n",
              "      <td>Kolkata Knight Riders</td>\n",
              "      <td>140</td>\n",
              "      <td>0</td>\n",
              "      <td>BB McCullum</td>\n",
              "      <td>M Chinnaswamy Stadium</td>\n",
              "      <td>Asad Rauf</td>\n",
              "      <td>RE Koertzen</td>\n",
              "    </tr>\n",
              "    <tr>\n",
              "      <th>1</th>\n",
              "      <td>2</td>\n",
              "      <td>2008</td>\n",
              "      <td>Chandigarh</td>\n",
              "      <td>2008-04-19</td>\n",
              "      <td>Chennai Super Kings</td>\n",
              "      <td>Kings XI Punjab</td>\n",
              "      <td>Chennai Super Kings</td>\n",
              "      <td>bat</td>\n",
              "      <td>normal</td>\n",
              "      <td>0</td>\n",
              "      <td>Chennai Super Kings</td>\n",
              "      <td>33</td>\n",
              "      <td>0</td>\n",
              "      <td>MEK Hussey</td>\n",
              "      <td>Punjab Cricket Association Stadium, Mohali</td>\n",
              "      <td>MR Benson</td>\n",
              "      <td>SL Shastri</td>\n",
              "    </tr>\n",
              "    <tr>\n",
              "      <th>2</th>\n",
              "      <td>3</td>\n",
              "      <td>2008</td>\n",
              "      <td>Delhi</td>\n",
              "      <td>2008-04-19</td>\n",
              "      <td>Rajasthan Royals</td>\n",
              "      <td>Delhi Daredevils</td>\n",
              "      <td>Rajasthan Royals</td>\n",
              "      <td>bat</td>\n",
              "      <td>normal</td>\n",
              "      <td>0</td>\n",
              "      <td>Delhi Daredevils</td>\n",
              "      <td>0</td>\n",
              "      <td>9</td>\n",
              "      <td>MF Maharoof</td>\n",
              "      <td>Feroz Shah Kotla</td>\n",
              "      <td>Aleem Dar</td>\n",
              "      <td>GA Pratapkumar</td>\n",
              "    </tr>\n",
              "    <tr>\n",
              "      <th>3</th>\n",
              "      <td>4</td>\n",
              "      <td>2008</td>\n",
              "      <td>Mumbai</td>\n",
              "      <td>2008-04-20</td>\n",
              "      <td>Mumbai Indians</td>\n",
              "      <td>Royal Challengers Bangalore</td>\n",
              "      <td>Mumbai Indians</td>\n",
              "      <td>bat</td>\n",
              "      <td>normal</td>\n",
              "      <td>0</td>\n",
              "      <td>Royal Challengers Bangalore</td>\n",
              "      <td>0</td>\n",
              "      <td>5</td>\n",
              "      <td>MV Boucher</td>\n",
              "      <td>Wankhede Stadium</td>\n",
              "      <td>SJ Davis</td>\n",
              "      <td>DJ Harper</td>\n",
              "    </tr>\n",
              "    <tr>\n",
              "      <th>4</th>\n",
              "      <td>5</td>\n",
              "      <td>2008</td>\n",
              "      <td>Kolkata</td>\n",
              "      <td>2008-04-20</td>\n",
              "      <td>Deccan Chargers</td>\n",
              "      <td>Kolkata Knight Riders</td>\n",
              "      <td>Deccan Chargers</td>\n",
              "      <td>bat</td>\n",
              "      <td>normal</td>\n",
              "      <td>0</td>\n",
              "      <td>Kolkata Knight Riders</td>\n",
              "      <td>0</td>\n",
              "      <td>5</td>\n",
              "      <td>DJ Hussey</td>\n",
              "      <td>Eden Gardens</td>\n",
              "      <td>BF Bowden</td>\n",
              "      <td>K Hariharan</td>\n",
              "    </tr>\n",
              "  </tbody>\n",
              "</table>\n",
              "</div>"
            ],
            "text/plain": [
              "   id  season        city        date                  team1  \\\n",
              "0   1    2008   Bangalore  2008-04-18  Kolkata Knight Riders   \n",
              "1   2    2008  Chandigarh  2008-04-19    Chennai Super Kings   \n",
              "2   3    2008       Delhi  2008-04-19       Rajasthan Royals   \n",
              "3   4    2008      Mumbai  2008-04-20         Mumbai Indians   \n",
              "4   5    2008     Kolkata  2008-04-20        Deccan Chargers   \n",
              "\n",
              "                         team2                  toss_winner toss_decision  \\\n",
              "0  Royal Challengers Bangalore  Royal Challengers Bangalore         field   \n",
              "1              Kings XI Punjab          Chennai Super Kings           bat   \n",
              "2             Delhi Daredevils             Rajasthan Royals           bat   \n",
              "3  Royal Challengers Bangalore               Mumbai Indians           bat   \n",
              "4        Kolkata Knight Riders              Deccan Chargers           bat   \n",
              "\n",
              "   result  dl_applied                       winner  win_by_runs  \\\n",
              "0  normal           0        Kolkata Knight Riders          140   \n",
              "1  normal           0          Chennai Super Kings           33   \n",
              "2  normal           0             Delhi Daredevils            0   \n",
              "3  normal           0  Royal Challengers Bangalore            0   \n",
              "4  normal           0        Kolkata Knight Riders            0   \n",
              "\n",
              "   win_by_wickets player_of_match                                       venue  \\\n",
              "0               0     BB McCullum                       M Chinnaswamy Stadium   \n",
              "1               0      MEK Hussey  Punjab Cricket Association Stadium, Mohali   \n",
              "2               9     MF Maharoof                            Feroz Shah Kotla   \n",
              "3               5      MV Boucher                            Wankhede Stadium   \n",
              "4               5       DJ Hussey                                Eden Gardens   \n",
              "\n",
              "     umpire1         umpire2  \n",
              "0  Asad Rauf     RE Koertzen  \n",
              "1  MR Benson      SL Shastri  \n",
              "2  Aleem Dar  GA Pratapkumar  \n",
              "3   SJ Davis       DJ Harper  \n",
              "4  BF Bowden     K Hariharan  "
            ]
          },
          "execution_count": 7,
          "metadata": {},
          "output_type": "execute_result"
        }
      ],
      "source": [
        "#Printing first 5 rows of data\n",
        "data.head()"
      ]
    },
    {
      "cell_type": "code",
      "execution_count": null,
      "id": "6ab88fcc",
      "metadata": {
        "id": "6ab88fcc"
      },
      "outputs": [],
      "source": [
        "#Filling null values\n",
        "data['winner'].fillna('Draw', inplace=True)\n",
        "data['city'].fillna('Dubai', inplace=True)"
      ]
    },
    {
      "cell_type": "code",
      "execution_count": null,
      "id": "6be76709",
      "metadata": {
        "id": "6be76709"
      },
      "outputs": [],
      "source": [
        "#Since the amount of null values is just 3 for player of match, we can go ahead & drop those 3 records\n",
        "#As this won't impact our dataset severly\n",
        "data.dropna(subset=[\"player_of_match\"], inplace=True)"
      ]
    },
    {
      "cell_type": "code",
      "execution_count": null,
      "id": "3e23536d",
      "metadata": {
        "id": "3e23536d",
        "outputId": "cdde144b-56b8-45c6-9ed5-97d3ee34f9d6"
      },
      "outputs": [
        {
          "data": {
            "text/plain": [
              "id                 0\n",
              "season             0\n",
              "city               0\n",
              "date               0\n",
              "team1              0\n",
              "team2              0\n",
              "toss_winner        0\n",
              "toss_decision      0\n",
              "result             0\n",
              "dl_applied         0\n",
              "winner             0\n",
              "win_by_runs        0\n",
              "win_by_wickets     0\n",
              "player_of_match    0\n",
              "venue              0\n",
              "umpire1            0\n",
              "umpire2            0\n",
              "dtype: int64"
            ]
          },
          "execution_count": 10,
          "metadata": {},
          "output_type": "execute_result"
        }
      ],
      "source": [
        "#Final check for null values\n",
        "data.isnull().sum()"
      ]
    },
    {
      "cell_type": "code",
      "execution_count": null,
      "id": "933e3897",
      "metadata": {
        "id": "933e3897"
      },
      "outputs": [],
      "source": [
        "#Replacing Full names of the teams with their abbreviations\n",
        "data.replace(['Mumbai Indians','Kolkata Knight Riders','Royal Challengers Bangalore','Deccan Chargers','Chennai Super Kings',\n",
        "                 'Rajasthan Royals','Delhi Daredevils','Gujarat Lions','Kings XI Punjab','Delhi Capitals' ,\n",
        "                 'Sunrisers Hyderabad','Rising Pune Supergiants','Rising Pune Supergiant','Kochi Tuskers Kerala','Pune Warriors']\n",
        "                ,['MI','KKR','RCB','DC','CSK','RR','DD','GL','KXIP','DD','SRH','RPS','RPS','KTK','PW'],inplace=True)"
      ]
    },
    {
      "cell_type": "code",
      "execution_count": null,
      "id": "ded24039",
      "metadata": {
        "id": "ded24039",
        "outputId": "dbc17933-d527-4b69-a7a8-c4ae5e238098"
      },
      "outputs": [
        {
          "data": {
            "text/html": [
              "<div>\n",
              "<style scoped>\n",
              "    .dataframe tbody tr th:only-of-type {\n",
              "        vertical-align: middle;\n",
              "    }\n",
              "\n",
              "    .dataframe tbody tr th {\n",
              "        vertical-align: top;\n",
              "    }\n",
              "\n",
              "    .dataframe thead th {\n",
              "        text-align: right;\n",
              "    }\n",
              "</style>\n",
              "<table border=\"1\" class=\"dataframe\">\n",
              "  <thead>\n",
              "    <tr style=\"text-align: right;\">\n",
              "      <th></th>\n",
              "      <th>id</th>\n",
              "      <th>season</th>\n",
              "      <th>city</th>\n",
              "      <th>date</th>\n",
              "      <th>team1</th>\n",
              "      <th>team2</th>\n",
              "      <th>toss_winner</th>\n",
              "      <th>toss_decision</th>\n",
              "      <th>result</th>\n",
              "      <th>dl_applied</th>\n",
              "      <th>winner</th>\n",
              "      <th>win_by_runs</th>\n",
              "      <th>win_by_wickets</th>\n",
              "      <th>player_of_match</th>\n",
              "      <th>venue</th>\n",
              "      <th>umpire1</th>\n",
              "      <th>umpire2</th>\n",
              "    </tr>\n",
              "  </thead>\n",
              "  <tbody>\n",
              "    <tr>\n",
              "      <th>0</th>\n",
              "      <td>1</td>\n",
              "      <td>2008</td>\n",
              "      <td>Bangalore</td>\n",
              "      <td>2008-04-18</td>\n",
              "      <td>KKR</td>\n",
              "      <td>RCB</td>\n",
              "      <td>RCB</td>\n",
              "      <td>field</td>\n",
              "      <td>normal</td>\n",
              "      <td>0</td>\n",
              "      <td>KKR</td>\n",
              "      <td>140</td>\n",
              "      <td>0</td>\n",
              "      <td>BB McCullum</td>\n",
              "      <td>M Chinnaswamy Stadium</td>\n",
              "      <td>Asad Rauf</td>\n",
              "      <td>RE Koertzen</td>\n",
              "    </tr>\n",
              "    <tr>\n",
              "      <th>1</th>\n",
              "      <td>2</td>\n",
              "      <td>2008</td>\n",
              "      <td>Chandigarh</td>\n",
              "      <td>2008-04-19</td>\n",
              "      <td>CSK</td>\n",
              "      <td>KXIP</td>\n",
              "      <td>CSK</td>\n",
              "      <td>bat</td>\n",
              "      <td>normal</td>\n",
              "      <td>0</td>\n",
              "      <td>CSK</td>\n",
              "      <td>33</td>\n",
              "      <td>0</td>\n",
              "      <td>MEK Hussey</td>\n",
              "      <td>Punjab Cricket Association Stadium, Mohali</td>\n",
              "      <td>MR Benson</td>\n",
              "      <td>SL Shastri</td>\n",
              "    </tr>\n",
              "    <tr>\n",
              "      <th>2</th>\n",
              "      <td>3</td>\n",
              "      <td>2008</td>\n",
              "      <td>Delhi</td>\n",
              "      <td>2008-04-19</td>\n",
              "      <td>RR</td>\n",
              "      <td>DD</td>\n",
              "      <td>RR</td>\n",
              "      <td>bat</td>\n",
              "      <td>normal</td>\n",
              "      <td>0</td>\n",
              "      <td>DD</td>\n",
              "      <td>0</td>\n",
              "      <td>9</td>\n",
              "      <td>MF Maharoof</td>\n",
              "      <td>Feroz Shah Kotla</td>\n",
              "      <td>Aleem Dar</td>\n",
              "      <td>GA Pratapkumar</td>\n",
              "    </tr>\n",
              "    <tr>\n",
              "      <th>3</th>\n",
              "      <td>4</td>\n",
              "      <td>2008</td>\n",
              "      <td>Mumbai</td>\n",
              "      <td>2008-04-20</td>\n",
              "      <td>MI</td>\n",
              "      <td>RCB</td>\n",
              "      <td>MI</td>\n",
              "      <td>bat</td>\n",
              "      <td>normal</td>\n",
              "      <td>0</td>\n",
              "      <td>RCB</td>\n",
              "      <td>0</td>\n",
              "      <td>5</td>\n",
              "      <td>MV Boucher</td>\n",
              "      <td>Wankhede Stadium</td>\n",
              "      <td>SJ Davis</td>\n",
              "      <td>DJ Harper</td>\n",
              "    </tr>\n",
              "    <tr>\n",
              "      <th>4</th>\n",
              "      <td>5</td>\n",
              "      <td>2008</td>\n",
              "      <td>Kolkata</td>\n",
              "      <td>2008-04-20</td>\n",
              "      <td>DC</td>\n",
              "      <td>KKR</td>\n",
              "      <td>DC</td>\n",
              "      <td>bat</td>\n",
              "      <td>normal</td>\n",
              "      <td>0</td>\n",
              "      <td>KKR</td>\n",
              "      <td>0</td>\n",
              "      <td>5</td>\n",
              "      <td>DJ Hussey</td>\n",
              "      <td>Eden Gardens</td>\n",
              "      <td>BF Bowden</td>\n",
              "      <td>K Hariharan</td>\n",
              "    </tr>\n",
              "  </tbody>\n",
              "</table>\n",
              "</div>"
            ],
            "text/plain": [
              "   id  season        city        date team1 team2 toss_winner toss_decision  \\\n",
              "0   1    2008   Bangalore  2008-04-18   KKR   RCB         RCB         field   \n",
              "1   2    2008  Chandigarh  2008-04-19   CSK  KXIP         CSK           bat   \n",
              "2   3    2008       Delhi  2008-04-19    RR    DD          RR           bat   \n",
              "3   4    2008      Mumbai  2008-04-20    MI   RCB          MI           bat   \n",
              "4   5    2008     Kolkata  2008-04-20    DC   KKR          DC           bat   \n",
              "\n",
              "   result  dl_applied winner  win_by_runs  win_by_wickets player_of_match  \\\n",
              "0  normal           0    KKR          140               0     BB McCullum   \n",
              "1  normal           0    CSK           33               0      MEK Hussey   \n",
              "2  normal           0     DD            0               9     MF Maharoof   \n",
              "3  normal           0    RCB            0               5      MV Boucher   \n",
              "4  normal           0    KKR            0               5       DJ Hussey   \n",
              "\n",
              "                                        venue    umpire1         umpire2  \n",
              "0                       M Chinnaswamy Stadium  Asad Rauf     RE Koertzen  \n",
              "1  Punjab Cricket Association Stadium, Mohali  MR Benson      SL Shastri  \n",
              "2                            Feroz Shah Kotla  Aleem Dar  GA Pratapkumar  \n",
              "3                            Wankhede Stadium   SJ Davis       DJ Harper  \n",
              "4                                Eden Gardens  BF Bowden     K Hariharan  "
            ]
          },
          "execution_count": 12,
          "metadata": {},
          "output_type": "execute_result"
        }
      ],
      "source": [
        "data.head()"
      ]
    },
    {
      "cell_type": "code",
      "execution_count": null,
      "id": "7330fc73",
      "metadata": {
        "id": "7330fc73",
        "outputId": "f06ea420-8198-464d-a594-8f8dc3c7f137"
      },
      "outputs": [
        {
          "data": {
            "text/plain": [
              "array(['Bangalore', 'Chandigarh', 'Delhi', 'Mumbai', 'Kolkata', 'Jaipur',\n",
              "       'Hyderabad', 'Chennai', 'Cape Town', 'Port Elizabeth', 'Durban',\n",
              "       'Centurion', 'East London', 'Johannesburg', 'Kimberley',\n",
              "       'Bloemfontein', 'Ahmedabad', 'Cuttack', 'Nagpur', 'Dharamsala',\n",
              "       'Kochi', 'Indore', 'Visakhapatnam', 'Pune', 'Raipur', 'Ranchi',\n",
              "       'Abu Dhabi', 'Sharjah', 'Dubai', 'Rajkot', 'Kanpur'], dtype=object)"
            ]
          },
          "execution_count": 13,
          "metadata": {},
          "output_type": "execute_result"
        }
      ],
      "source": [
        "#Unique observations that the variable city takes on\n",
        "data.city.unique()"
      ]
    },
    {
      "cell_type": "code",
      "execution_count": null,
      "id": "edc337fe",
      "metadata": {
        "id": "edc337fe"
      },
      "outputs": [],
      "source": [
        "#Dropping these 3 columns as they don't contribute for predictions\n",
        "data.drop(columns=['dl_applied','id','date'],inplace=True)"
      ]
    },
    {
      "cell_type": "code",
      "execution_count": null,
      "id": "eaea1d65",
      "metadata": {
        "id": "eaea1d65",
        "outputId": "4eca9724-9593-4e54-ddd3-67fcf2acbd8e"
      },
      "outputs": [
        {
          "data": {
            "text/html": [
              "<div>\n",
              "<style scoped>\n",
              "    .dataframe tbody tr th:only-of-type {\n",
              "        vertical-align: middle;\n",
              "    }\n",
              "\n",
              "    .dataframe tbody tr th {\n",
              "        vertical-align: top;\n",
              "    }\n",
              "\n",
              "    .dataframe thead th {\n",
              "        text-align: right;\n",
              "    }\n",
              "</style>\n",
              "<table border=\"1\" class=\"dataframe\">\n",
              "  <thead>\n",
              "    <tr style=\"text-align: right;\">\n",
              "      <th></th>\n",
              "      <th>season</th>\n",
              "      <th>city</th>\n",
              "      <th>team1</th>\n",
              "      <th>team2</th>\n",
              "      <th>toss_winner</th>\n",
              "      <th>toss_decision</th>\n",
              "      <th>result</th>\n",
              "      <th>winner</th>\n",
              "      <th>win_by_runs</th>\n",
              "      <th>win_by_wickets</th>\n",
              "      <th>player_of_match</th>\n",
              "      <th>venue</th>\n",
              "      <th>umpire1</th>\n",
              "      <th>umpire2</th>\n",
              "    </tr>\n",
              "  </thead>\n",
              "  <tbody>\n",
              "    <tr>\n",
              "      <th>0</th>\n",
              "      <td>2008</td>\n",
              "      <td>Bangalore</td>\n",
              "      <td>KKR</td>\n",
              "      <td>RCB</td>\n",
              "      <td>RCB</td>\n",
              "      <td>field</td>\n",
              "      <td>normal</td>\n",
              "      <td>KKR</td>\n",
              "      <td>140</td>\n",
              "      <td>0</td>\n",
              "      <td>BB McCullum</td>\n",
              "      <td>M Chinnaswamy Stadium</td>\n",
              "      <td>Asad Rauf</td>\n",
              "      <td>RE Koertzen</td>\n",
              "    </tr>\n",
              "    <tr>\n",
              "      <th>1</th>\n",
              "      <td>2008</td>\n",
              "      <td>Chandigarh</td>\n",
              "      <td>CSK</td>\n",
              "      <td>KXIP</td>\n",
              "      <td>CSK</td>\n",
              "      <td>bat</td>\n",
              "      <td>normal</td>\n",
              "      <td>CSK</td>\n",
              "      <td>33</td>\n",
              "      <td>0</td>\n",
              "      <td>MEK Hussey</td>\n",
              "      <td>Punjab Cricket Association Stadium, Mohali</td>\n",
              "      <td>MR Benson</td>\n",
              "      <td>SL Shastri</td>\n",
              "    </tr>\n",
              "    <tr>\n",
              "      <th>2</th>\n",
              "      <td>2008</td>\n",
              "      <td>Delhi</td>\n",
              "      <td>RR</td>\n",
              "      <td>DD</td>\n",
              "      <td>RR</td>\n",
              "      <td>bat</td>\n",
              "      <td>normal</td>\n",
              "      <td>DD</td>\n",
              "      <td>0</td>\n",
              "      <td>9</td>\n",
              "      <td>MF Maharoof</td>\n",
              "      <td>Feroz Shah Kotla</td>\n",
              "      <td>Aleem Dar</td>\n",
              "      <td>GA Pratapkumar</td>\n",
              "    </tr>\n",
              "    <tr>\n",
              "      <th>3</th>\n",
              "      <td>2008</td>\n",
              "      <td>Mumbai</td>\n",
              "      <td>MI</td>\n",
              "      <td>RCB</td>\n",
              "      <td>MI</td>\n",
              "      <td>bat</td>\n",
              "      <td>normal</td>\n",
              "      <td>RCB</td>\n",
              "      <td>0</td>\n",
              "      <td>5</td>\n",
              "      <td>MV Boucher</td>\n",
              "      <td>Wankhede Stadium</td>\n",
              "      <td>SJ Davis</td>\n",
              "      <td>DJ Harper</td>\n",
              "    </tr>\n",
              "    <tr>\n",
              "      <th>4</th>\n",
              "      <td>2008</td>\n",
              "      <td>Kolkata</td>\n",
              "      <td>DC</td>\n",
              "      <td>KKR</td>\n",
              "      <td>DC</td>\n",
              "      <td>bat</td>\n",
              "      <td>normal</td>\n",
              "      <td>KKR</td>\n",
              "      <td>0</td>\n",
              "      <td>5</td>\n",
              "      <td>DJ Hussey</td>\n",
              "      <td>Eden Gardens</td>\n",
              "      <td>BF Bowden</td>\n",
              "      <td>K Hariharan</td>\n",
              "    </tr>\n",
              "  </tbody>\n",
              "</table>\n",
              "</div>"
            ],
            "text/plain": [
              "   season        city team1 team2 toss_winner toss_decision  result winner  \\\n",
              "0    2008   Bangalore   KKR   RCB         RCB         field  normal    KKR   \n",
              "1    2008  Chandigarh   CSK  KXIP         CSK           bat  normal    CSK   \n",
              "2    2008       Delhi    RR    DD          RR           bat  normal     DD   \n",
              "3    2008      Mumbai    MI   RCB          MI           bat  normal    RCB   \n",
              "4    2008     Kolkata    DC   KKR          DC           bat  normal    KKR   \n",
              "\n",
              "   win_by_runs  win_by_wickets player_of_match  \\\n",
              "0          140               0     BB McCullum   \n",
              "1           33               0      MEK Hussey   \n",
              "2            0               9     MF Maharoof   \n",
              "3            0               5      MV Boucher   \n",
              "4            0               5       DJ Hussey   \n",
              "\n",
              "                                        venue    umpire1         umpire2  \n",
              "0                       M Chinnaswamy Stadium  Asad Rauf     RE Koertzen  \n",
              "1  Punjab Cricket Association Stadium, Mohali  MR Benson      SL Shastri  \n",
              "2                            Feroz Shah Kotla  Aleem Dar  GA Pratapkumar  \n",
              "3                            Wankhede Stadium   SJ Davis       DJ Harper  \n",
              "4                                Eden Gardens  BF Bowden     K Hariharan  "
            ]
          },
          "execution_count": 15,
          "metadata": {},
          "output_type": "execute_result"
        }
      ],
      "source": [
        "data.head()"
      ]
    },
    {
      "cell_type": "markdown",
      "id": "5bc40cf1",
      "metadata": {
        "id": "5bc40cf1"
      },
      "source": [
        "# Visualisations"
      ]
    },
    {
      "cell_type": "markdown",
      "id": "56640cbd",
      "metadata": {
        "id": "56640cbd"
      },
      "source": [
        "# Total number of matches played in each season"
      ]
    },
    {
      "cell_type": "code",
      "execution_count": null,
      "id": "ceef14ad",
      "metadata": {
        "id": "ceef14ad",
        "outputId": "f3cc9b67-c75a-4e33-e537-0e9a5478fa2c"
      },
      "outputs": [
        {
          "data": {
            "image/png": "[encoded data removed]",
            "text/plain": [
              "<Figure size 1500x500 with 1 Axes>"
            ]
          },
          "metadata": {},
          "output_type": "display_data"
        }
      ],
      "source": [
        "plt.subplots(figsize = (15,5))\n",
        "sns.countplot(x = 'season' , data = data, palette='dark')\n",
        "plt.title('Total number of matches played in each season')\n",
        "plt.show()"
      ]
    },
    {
      "cell_type": "markdown",
      "id": "eee9265a",
      "metadata": {
        "id": "eee9265a"
      },
      "source": [
        "# Total number of matches won by each team"
      ]
    },
    {
      "cell_type": "code",
      "execution_count": null,
      "id": "d2e00d06",
      "metadata": {
        "id": "d2e00d06",
        "outputId": "6d949075-b0a2-41a9-f707-761e80d3ff40"
      },
      "outputs": [
        {
          "data": {
            "image/png": "[encoded data removed]",
            "text/plain": [
              "<Figure size 1500x1000 with 1 Axes>"
            ]
          },
          "metadata": {},
          "output_type": "display_data"
        }
      ],
      "source": [
        "plt.subplots(figsize=(15,10))\n",
        "ax = data['winner'].value_counts().sort_values(ascending=True).plot.barh(width=.9,color=sns.color_palette(\"husl\", 9))\n",
        "ax.set_xlabel('count')\n",
        "ax.set_ylabel('team')\n",
        "plt.show()"
      ]
    },
    {
      "cell_type": "markdown",
      "id": "57544a2c",
      "metadata": {
        "id": "57544a2c"
      },
      "source": [
        "# Total number of matches won at each venue"
      ]
    },
    {
      "cell_type": "code",
      "execution_count": null,
      "id": "8870327d",
      "metadata": {
        "id": "8870327d",
        "outputId": "58da160d-1838-4113-99fe-0dda0f64a9ac"
      },
      "outputs": [
        {
          "data": {
            "image/png": "[encoded data removed]",
            "text/plain": [
              "<Figure size 1500x1500 with 1 Axes>"
            ]
          },
          "metadata": {},
          "output_type": "display_data"
        }
      ],
      "source": [
        "plt.subplots(figsize=(15,15))\n",
        "ax = data['venue'].value_counts().sort_values(ascending=True).plot.barh(width=.9,color=sns.color_palette(\"Paired\", 10))\n",
        "ax.set_xlabel('count')\n",
        "ax.set_ylabel('venue')\n",
        "plt.title('Number of matches won in each venue')\n",
        "plt.show()"
      ]
    },
    {
      "cell_type": "markdown",
      "id": "cef6e87a",
      "metadata": {
        "id": "cef6e87a"
      },
      "source": [
        "# Chances of winning both toss and match"
      ]
    },
    {
      "cell_type": "code",
      "execution_count": null,
      "id": "8f5a85fe",
      "metadata": {
        "id": "8f5a85fe",
        "outputId": "26315e66-da64-4403-8a71-9390ddb8c789"
      },
      "outputs": [
        {
          "data": {
            "image/png": "[encoded data removed]",
            "text/plain": [
              "<Figure size 500x500 with 1 Axes>"
            ]
          },
          "metadata": {},
          "output_type": "display_data"
        }
      ],
      "source": [
        "df = data[data['toss_winner']==data['winner']]\n",
        "ratio = [len(df), (len(data)-len(df))]\n",
        "labels = ['yes', 'no']\n",
        "plt.pie(ratio, labels=labels, colors=['y', 'c'], autopct='%1.1f%%', shadow=True, startangle=90)\n",
        "fig = plt.gcf()\n",
        "fig.set_size_inches(5,5)\n",
        "plt.title(\"Toss winner and  match winner\")\n",
        "plt.show()"
      ]
    },
    {
      "cell_type": "markdown",
      "id": "b3279e3c",
      "metadata": {
        "id": "b3279e3c"
      },
      "source": [
        "# Team with most number of wins per season"
      ]
    },
    {
      "cell_type": "code",
      "execution_count": null,
      "id": "c5a92c05",
      "metadata": {
        "id": "c5a92c05",
        "outputId": "4a94ff0a-e318-4daf-9537-84fb288a9fea"
      },
      "outputs": [
        {
          "data": {
            "text/plain": [
              "season  winner\n",
              "2008    RR        13\n",
              "        KXIP      10\n",
              "        CSK        9\n",
              "        DD         7\n",
              "        MI         7\n",
              "                  ..\n",
              "2016    KKR        8\n",
              "        DD         7\n",
              "        MI         7\n",
              "        RPS        5\n",
              "        KXIP       4\n",
              "Name: winner, Length: 76, dtype: int64"
            ]
          },
          "execution_count": 20,
          "metadata": {},
          "output_type": "execute_result"
        }
      ],
      "source": [
        "teams_per_season = data.groupby('season')['winner'].value_counts()\n",
        "teams_per_season"
      ]
    },
    {
      "cell_type": "code",
      "execution_count": null,
      "id": "56153e23",
      "metadata": {
        "id": "56153e23",
        "outputId": "53a5d24b-5cb8-4c61-ef99-4fe8b5e30b14"
      },
      "outputs": [
        {
          "data": {
            "text/plain": [
              "(574, 14)"
            ]
          },
          "execution_count": 21,
          "metadata": {},
          "output_type": "execute_result"
        }
      ],
      "source": [
        "#Checking for the shape of the data\n",
        "data.shape"
      ]
    },
    {
      "cell_type": "markdown",
      "id": "2e3db20d",
      "metadata": {
        "id": "2e3db20d"
      },
      "source": [
        "# Label Encoding (categorical to numeric)"
      ]
    },
    {
      "cell_type": "code",
      "execution_count": null,
      "id": "fe42558a",
      "metadata": {
        "id": "fe42558a"
      },
      "outputs": [],
      "source": [
        "from sklearn.preprocessing import LabelEncoder\n",
        "le = LabelEncoder()\n",
        "le.fit(data.winner)\n",
        "data['team1']=le.transform(data.team1)\n",
        "data['team2']=le.transform(data.team2)"
      ]
    },
    {
      "cell_type": "code",
      "execution_count": null,
      "id": "be0533c4",
      "metadata": {
        "id": "be0533c4",
        "outputId": "7f91759f-07bb-4f42-a4d4-e97d2a22a6c3"
      },
      "outputs": [
        {
          "data": {
            "text/html": [
              "<div>\n",
              "<style scoped>\n",
              "    .dataframe tbody tr th:only-of-type {\n",
              "        vertical-align: middle;\n",
              "    }\n",
              "\n",
              "    .dataframe tbody tr th {\n",
              "        vertical-align: top;\n",
              "    }\n",
              "\n",
              "    .dataframe thead th {\n",
              "        text-align: right;\n",
              "    }\n",
              "</style>\n",
              "<table border=\"1\" class=\"dataframe\">\n",
              "  <thead>\n",
              "    <tr style=\"text-align: right;\">\n",
              "      <th></th>\n",
              "      <th>season</th>\n",
              "      <th>city</th>\n",
              "      <th>team1</th>\n",
              "      <th>team2</th>\n",
              "      <th>toss_winner</th>\n",
              "      <th>toss_decision</th>\n",
              "      <th>result</th>\n",
              "      <th>winner</th>\n",
              "      <th>win_by_runs</th>\n",
              "      <th>win_by_wickets</th>\n",
              "      <th>player_of_match</th>\n",
              "      <th>venue</th>\n",
              "      <th>umpire1</th>\n",
              "      <th>umpire2</th>\n",
              "    </tr>\n",
              "  </thead>\n",
              "  <tbody>\n",
              "    <tr>\n",
              "      <th>0</th>\n",
              "      <td>2008</td>\n",
              "      <td>Bangalore</td>\n",
              "      <td>4</td>\n",
              "      <td>9</td>\n",
              "      <td>RCB</td>\n",
              "      <td>field</td>\n",
              "      <td>normal</td>\n",
              "      <td>4</td>\n",
              "      <td>140</td>\n",
              "      <td>0</td>\n",
              "      <td>BB McCullum</td>\n",
              "      <td>M Chinnaswamy Stadium</td>\n",
              "      <td>Asad Rauf</td>\n",
              "      <td>RE Koertzen</td>\n",
              "    </tr>\n",
              "    <tr>\n",
              "      <th>1</th>\n",
              "      <td>2008</td>\n",
              "      <td>Chandigarh</td>\n",
              "      <td>0</td>\n",
              "      <td>6</td>\n",
              "      <td>CSK</td>\n",
              "      <td>bat</td>\n",
              "      <td>normal</td>\n",
              "      <td>0</td>\n",
              "      <td>33</td>\n",
              "      <td>0</td>\n",
              "      <td>MEK Hussey</td>\n",
              "      <td>Punjab Cricket Association Stadium, Mohali</td>\n",
              "      <td>MR Benson</td>\n",
              "      <td>SL Shastri</td>\n",
              "    </tr>\n",
              "    <tr>\n",
              "      <th>2</th>\n",
              "      <td>2008</td>\n",
              "      <td>Delhi</td>\n",
              "      <td>11</td>\n",
              "      <td>2</td>\n",
              "      <td>RR</td>\n",
              "      <td>bat</td>\n",
              "      <td>normal</td>\n",
              "      <td>2</td>\n",
              "      <td>0</td>\n",
              "      <td>9</td>\n",
              "      <td>MF Maharoof</td>\n",
              "      <td>Feroz Shah Kotla</td>\n",
              "      <td>Aleem Dar</td>\n",
              "      <td>GA Pratapkumar</td>\n",
              "    </tr>\n",
              "    <tr>\n",
              "      <th>3</th>\n",
              "      <td>2008</td>\n",
              "      <td>Mumbai</td>\n",
              "      <td>7</td>\n",
              "      <td>9</td>\n",
              "      <td>MI</td>\n",
              "      <td>bat</td>\n",
              "      <td>normal</td>\n",
              "      <td>9</td>\n",
              "      <td>0</td>\n",
              "      <td>5</td>\n",
              "      <td>MV Boucher</td>\n",
              "      <td>Wankhede Stadium</td>\n",
              "      <td>SJ Davis</td>\n",
              "      <td>DJ Harper</td>\n",
              "    </tr>\n",
              "    <tr>\n",
              "      <th>4</th>\n",
              "      <td>2008</td>\n",
              "      <td>Kolkata</td>\n",
              "      <td>1</td>\n",
              "      <td>4</td>\n",
              "      <td>DC</td>\n",
              "      <td>bat</td>\n",
              "      <td>normal</td>\n",
              "      <td>4</td>\n",
              "      <td>0</td>\n",
              "      <td>5</td>\n",
              "      <td>DJ Hussey</td>\n",
              "      <td>Eden Gardens</td>\n",
              "      <td>BF Bowden</td>\n",
              "      <td>K Hariharan</td>\n",
              "    </tr>\n",
              "    <tr>\n",
              "      <th>...</th>\n",
              "      <td>...</td>\n",
              "      <td>...</td>\n",
              "      <td>...</td>\n",
              "      <td>...</td>\n",
              "      <td>...</td>\n",
              "      <td>...</td>\n",
              "      <td>...</td>\n",
              "      <td>...</td>\n",
              "      <td>...</td>\n",
              "      <td>...</td>\n",
              "      <td>...</td>\n",
              "      <td>...</td>\n",
              "      <td>...</td>\n",
              "      <td>...</td>\n",
              "    </tr>\n",
              "    <tr>\n",
              "      <th>572</th>\n",
              "      <td>2016</td>\n",
              "      <td>Raipur</td>\n",
              "      <td>2</td>\n",
              "      <td>9</td>\n",
              "      <td>RCB</td>\n",
              "      <td>field</td>\n",
              "      <td>normal</td>\n",
              "      <td>9</td>\n",
              "      <td>0</td>\n",
              "      <td>6</td>\n",
              "      <td>V Kohli</td>\n",
              "      <td>Shaheed Veer Narayan Singh International Stadium</td>\n",
              "      <td>A Nand Kishore</td>\n",
              "      <td>BNJ Oxenford</td>\n",
              "    </tr>\n",
              "    <tr>\n",
              "      <th>573</th>\n",
              "      <td>2016</td>\n",
              "      <td>Bangalore</td>\n",
              "      <td>3</td>\n",
              "      <td>9</td>\n",
              "      <td>RCB</td>\n",
              "      <td>field</td>\n",
              "      <td>normal</td>\n",
              "      <td>9</td>\n",
              "      <td>0</td>\n",
              "      <td>4</td>\n",
              "      <td>AB de Villiers</td>\n",
              "      <td>M Chinnaswamy Stadium</td>\n",
              "      <td>AK Chaudhary</td>\n",
              "      <td>HDPK Dharmasena</td>\n",
              "    </tr>\n",
              "    <tr>\n",
              "      <th>574</th>\n",
              "      <td>2016</td>\n",
              "      <td>Delhi</td>\n",
              "      <td>12</td>\n",
              "      <td>4</td>\n",
              "      <td>KKR</td>\n",
              "      <td>field</td>\n",
              "      <td>normal</td>\n",
              "      <td>12</td>\n",
              "      <td>22</td>\n",
              "      <td>0</td>\n",
              "      <td>MC Henriques</td>\n",
              "      <td>Feroz Shah Kotla</td>\n",
              "      <td>M Erasmus</td>\n",
              "      <td>C Shamshuddin</td>\n",
              "    </tr>\n",
              "    <tr>\n",
              "      <th>575</th>\n",
              "      <td>2016</td>\n",
              "      <td>Delhi</td>\n",
              "      <td>3</td>\n",
              "      <td>12</td>\n",
              "      <td>SRH</td>\n",
              "      <td>field</td>\n",
              "      <td>normal</td>\n",
              "      <td>12</td>\n",
              "      <td>0</td>\n",
              "      <td>4</td>\n",
              "      <td>DA Warner</td>\n",
              "      <td>Feroz Shah Kotla</td>\n",
              "      <td>M Erasmus</td>\n",
              "      <td>CK Nandan</td>\n",
              "    </tr>\n",
              "    <tr>\n",
              "      <th>576</th>\n",
              "      <td>2016</td>\n",
              "      <td>Bangalore</td>\n",
              "      <td>12</td>\n",
              "      <td>9</td>\n",
              "      <td>SRH</td>\n",
              "      <td>bat</td>\n",
              "      <td>normal</td>\n",
              "      <td>12</td>\n",
              "      <td>8</td>\n",
              "      <td>0</td>\n",
              "      <td>BCJ Cutting</td>\n",
              "      <td>M Chinnaswamy Stadium</td>\n",
              "      <td>HDPK Dharmasena</td>\n",
              "      <td>BNJ Oxenford</td>\n",
              "    </tr>\n",
              "  </tbody>\n",
              "</table>\n",
              "<p>574 rows × 14 columns</p>\n",
              "</div>"
            ],
            "text/plain": [
              "     season        city  team1  team2 toss_winner toss_decision  result  \\\n",
              "0      2008   Bangalore      4      9         RCB         field  normal   \n",
              "1      2008  Chandigarh      0      6         CSK           bat  normal   \n",
              "2      2008       Delhi     11      2          RR           bat  normal   \n",
              "3      2008      Mumbai      7      9          MI           bat  normal   \n",
              "4      2008     Kolkata      1      4          DC           bat  normal   \n",
              "..      ...         ...    ...    ...         ...           ...     ...   \n",
              "572    2016      Raipur      2      9         RCB         field  normal   \n",
              "573    2016   Bangalore      3      9         RCB         field  normal   \n",
              "574    2016       Delhi     12      4         KKR         field  normal   \n",
              "575    2016       Delhi      3     12         SRH         field  normal   \n",
              "576    2016   Bangalore     12      9         SRH           bat  normal   \n",
              "\n",
              "     winner  win_by_runs  win_by_wickets player_of_match  \\\n",
              "0         4          140               0     BB McCullum   \n",
              "1         0           33               0      MEK Hussey   \n",
              "2         2            0               9     MF Maharoof   \n",
              "3         9            0               5      MV Boucher   \n",
              "4         4            0               5       DJ Hussey   \n",
              "..      ...          ...             ...             ...   \n",
              "572       9            0               6         V Kohli   \n",
              "573       9            0               4  AB de Villiers   \n",
              "574      12           22               0    MC Henriques   \n",
              "575      12            0               4       DA Warner   \n",
              "576      12            8               0     BCJ Cutting   \n",
              "\n",
              "                                                venue          umpire1  \\\n",
              "0                               M Chinnaswamy Stadium        Asad Rauf   \n",
              "1          Punjab Cricket Association Stadium, Mohali        MR Benson   \n",
              "2                                    Feroz Shah Kotla        Aleem Dar   \n",
              "3                                    Wankhede Stadium         SJ Davis   \n",
              "4                                        Eden Gardens        BF Bowden   \n",
              "..                                                ...              ...   \n",
              "572  Shaheed Veer Narayan Singh International Stadium   A Nand Kishore   \n",
              "573                             M Chinnaswamy Stadium     AK Chaudhary   \n",
              "574                                  Feroz Shah Kotla        M Erasmus   \n",
              "575                                  Feroz Shah Kotla        M Erasmus   \n",
              "576                             M Chinnaswamy Stadium  HDPK Dharmasena   \n",
              "\n",
              "             umpire2  \n",
              "0        RE Koertzen  \n",
              "1         SL Shastri  \n",
              "2     GA Pratapkumar  \n",
              "3          DJ Harper  \n",
              "4        K Hariharan  \n",
              "..               ...  \n",
              "572     BNJ Oxenford  \n",
              "573  HDPK Dharmasena  \n",
              "574    C Shamshuddin  \n",
              "575        CK Nandan  \n",
              "576     BNJ Oxenford  \n",
              "\n",
              "[574 rows x 14 columns]"
            ]
          },
          "execution_count": 23,
          "metadata": {},
          "output_type": "execute_result"
        }
      ],
      "source": [
        "data['winner']=le.transform(data.winner)\n",
        "data"
      ]
    },
    {
      "cell_type": "code",
      "execution_count": null,
      "id": "18c68ba8",
      "metadata": {
        "id": "18c68ba8"
      },
      "outputs": [],
      "source": [
        "le2 = LabelEncoder()\n",
        "data['city']=le2.fit_transform(data['city'])\n",
        "data['player_of_match'] = le2.fit_transform(data['player_of_match'])\n",
        "data['umpire1'] = le2.fit_transform(data['umpire1'])\n",
        "data['umpire2'] = le2.fit_transform(data['umpire2'])\n",
        "data['venue'] = le2.fit_transform(data['venue'])\n",
        "data['toss_winner'] = le2.fit_transform(data['toss_winner'])\n",
        "data['toss_decision'] = le2.fit_transform(data['toss_decision'])\n",
        "data['result'] = le2.fit_transform(data['result'])"
      ]
    },
    {
      "cell_type": "markdown",
      "id": "385755c5",
      "metadata": {
        "id": "385755c5"
      },
      "source": [
        "# Splitting data into train & test"
      ]
    },
    {
      "cell_type": "code",
      "execution_count": null,
      "id": "7728ec19",
      "metadata": {
        "id": "7728ec19"
      },
      "outputs": [],
      "source": [
        "from sklearn.model_selection import train_test_split"
      ]
    },
    {
      "cell_type": "code",
      "execution_count": null,
      "id": "25d4225f",
      "metadata": {
        "id": "25d4225f",
        "outputId": "e44bff03-fdf7-4206-b02d-d847f9b66c27"
      },
      "outputs": [
        {
          "data": {
            "text/plain": [
              "(459, 13)"
            ]
          },
          "execution_count": 26,
          "metadata": {},
          "output_type": "execute_result"
        }
      ],
      "source": [
        "X = data.drop('winner', axis=1)\n",
        "y = data['winner']\n",
        "\n",
        "#Split the data into training and testing sets\n",
        "X_train, X_test, y_train, y_test = train_test_split(X, y, test_size=0.2, random_state=42)\n",
        "\n",
        "X_train.shape"
      ]
    },
    {
      "cell_type": "code",
      "execution_count": null,
      "id": "ccfb8ba4",
      "metadata": {
        "id": "ccfb8ba4",
        "outputId": "7fc5f869-58a6-4d7f-e8e3-7635802959bd"
      },
      "outputs": [
        {
          "data": {
            "text/plain": [
              "(115, 13)"
            ]
          },
          "execution_count": 27,
          "metadata": {},
          "output_type": "execute_result"
        }
      ],
      "source": [
        "X_test.shape"
      ]
    },
    {
      "cell_type": "markdown",
      "id": "714516f4",
      "metadata": {
        "id": "714516f4"
      },
      "source": [
        "# Artifical Neural Network (ANN)"
      ]
    },
    {
      "cell_type": "code",
      "execution_count": null,
      "id": "75c006e4",
      "metadata": {
        "id": "75c006e4"
      },
      "outputs": [],
      "source": [
        "from keras import models,layers"
      ]
    },
    {
      "cell_type": "code",
      "execution_count": null,
      "id": "c03780b9",
      "metadata": {
        "id": "c03780b9"
      },
      "outputs": [],
      "source": [
        "#Creating a sequential model with 2 Dense Hidden layers & 1 output softmax layer\n",
        "network=models.Sequential()\n",
        "network.add(layers.Dense(512,activation='leaky_relu',input_shape=(1*13,)))\n",
        "network.add(layers.Dense(128,activation='leaky_relu',input_shape=(1*13,)))\n",
        "network.add(layers.Dense(1,activation='sigmoid'))"
      ]
    },
    {
      "cell_type": "code",
      "execution_count": null,
      "id": "876fb70b",
      "metadata": {
        "id": "876fb70b"
      },
      "outputs": [],
      "source": [
        "network.compile(optimizer='rmsprop',loss='binary_crossentropy',metrics=['accuracy'])"
      ]
    },
    {
      "cell_type": "code",
      "execution_count": null,
      "id": "322491f2",
      "metadata": {
        "id": "322491f2"
      },
      "outputs": [],
      "source": [
        "X_train = X_train.astype('float32')\n",
        "y_train = y_train.astype('float32')"
      ]
    },
    {
      "cell_type": "code",
      "execution_count": null,
      "id": "d59e3f51",
      "metadata": {
        "id": "d59e3f51",
        "outputId": "c090f10c-e992-4a11-96bd-c4d5307b60d0"
      },
      "outputs": [
        {
          "name": "stdout",
          "output_type": "stream",
          "text": [
            "Epoch 1/100\n",
            "15/15 [==============================] - 2s 6ms/step - loss: -24657.7031 - accuracy: 0.0610\n",
            "Epoch 2/100\n",
            "15/15 [==============================] - 0s 4ms/step - loss: -95376.6094 - accuracy: 0.0545\n",
            "Epoch 3/100\n",
            "15/15 [==============================] - 0s 4ms/step - loss: -204711.0938 - accuracy: 0.0545\n",
            "Epoch 4/100\n",
            "15/15 [==============================] - 0s 4ms/step - loss: -356167.7188 - accuracy: 0.0545\n",
            "Epoch 5/100\n",
            "15/15 [==============================] - 0s 5ms/step - loss: -556912.4375 - accuracy: 0.0545\n",
            "Epoch 6/100\n",
            "15/15 [==============================] - 0s 5ms/step - loss: -812984.0625 - accuracy: 0.0545\n",
            "Epoch 7/100\n",
            "15/15 [==============================] - 0s 4ms/step - loss: -1121752.6250 - accuracy: 0.0545\n",
            "Epoch 8/100\n",
            "15/15 [==============================] - 0s 4ms/step - loss: -1492552.3750 - accuracy: 0.0545\n",
            "Epoch 9/100\n",
            "15/15 [==============================] - 0s 4ms/step - loss: -1935657.2500 - accuracy: 0.0545\n",
            "Epoch 10/100\n",
            "15/15 [==============================] - 0s 4ms/step - loss: -2452908.2500 - accuracy: 0.0545\n",
            "Epoch 11/100\n",
            "15/15 [==============================] - 0s 5ms/step - loss: -3048977.2500 - accuracy: 0.0545\n",
            "Epoch 12/100\n",
            "15/15 [==============================] - 0s 4ms/step - loss: -3721426.2500 - accuracy: 0.0545\n",
            "Epoch 13/100\n",
            "15/15 [==============================] - 0s 5ms/step - loss: -4470179.0000 - accuracy: 0.0545\n",
            "Epoch 14/100\n",
            "15/15 [==============================] - 0s 3ms/step - loss: -5341533.5000 - accuracy: 0.0545\n",
            "Epoch 15/100\n",
            "15/15 [==============================] - 0s 5ms/step - loss: -6309043.0000 - accuracy: 0.0545\n",
            "Epoch 16/100\n",
            "15/15 [==============================] - 0s 4ms/step - loss: -7345833.5000 - accuracy: 0.0545\n",
            "Epoch 17/100\n",
            "15/15 [==============================] - 0s 4ms/step - loss: -8500091.0000 - accuracy: 0.0545\n",
            "Epoch 18/100\n",
            "15/15 [==============================] - 0s 5ms/step - loss: -9792806.0000 - accuracy: 0.0545\n",
            "Epoch 19/100\n",
            "15/15 [==============================] - 0s 4ms/step - loss: -11166302.0000 - accuracy: 0.0545\n",
            "Epoch 20/100\n",
            "15/15 [==============================] - 0s 5ms/step - loss: -12680782.0000 - accuracy: 0.0545\n",
            "Epoch 21/100\n",
            "15/15 [==============================] - 0s 5ms/step - loss: -14312133.0000 - accuracy: 0.0545\n",
            "Epoch 22/100\n",
            "15/15 [==============================] - 0s 4ms/step - loss: -16074514.0000 - accuracy: 0.0545\n",
            "Epoch 23/100\n",
            "15/15 [==============================] - 0s 4ms/step - loss: -17970694.0000 - accuracy: 0.0545\n",
            "Epoch 24/100\n",
            "15/15 [==============================] - 0s 4ms/step - loss: -20025598.0000 - accuracy: 0.0545\n",
            "Epoch 25/100\n",
            "15/15 [==============================] - 0s 5ms/step - loss: -22223488.0000 - accuracy: 0.0545\n",
            "Epoch 26/100\n",
            "15/15 [==============================] - 0s 5ms/step - loss: -24546202.0000 - accuracy: 0.0545\n",
            "Epoch 27/100\n",
            "15/15 [==============================] - 0s 5ms/step - loss: -27060366.0000 - accuracy: 0.0545\n",
            "Epoch 28/100\n",
            "15/15 [==============================] - 0s 5ms/step - loss: -29680214.0000 - accuracy: 0.0545\n",
            "Epoch 29/100\n",
            "15/15 [==============================] - 0s 5ms/step - loss: -32515050.0000 - accuracy: 0.0545\n",
            "Epoch 30/100\n",
            "15/15 [==============================] - 0s 4ms/step - loss: -35458248.0000 - accuracy: 0.0545\n",
            "Epoch 31/100\n",
            "15/15 [==============================] - 0s 5ms/step - loss: -38536856.0000 - accuracy: 0.0545\n",
            "Epoch 32/100\n",
            "15/15 [==============================] - 0s 5ms/step - loss: -41817928.0000 - accuracy: 0.0545\n",
            "Epoch 33/100\n",
            "15/15 [==============================] - 0s 5ms/step - loss: -45399028.0000 - accuracy: 0.0545\n",
            "Epoch 34/100\n",
            "15/15 [==============================] - 0s 5ms/step - loss: -49122164.0000 - accuracy: 0.0545\n",
            "Epoch 35/100\n",
            "15/15 [==============================] - 0s 5ms/step - loss: -53028964.0000 - accuracy: 0.0545\n",
            "Epoch 36/100\n",
            "15/15 [==============================] - 0s 4ms/step - loss: -57088204.0000 - accuracy: 0.0545\n",
            "Epoch 37/100\n",
            "15/15 [==============================] - 0s 5ms/step - loss: -61286492.0000 - accuracy: 0.0545\n",
            "Epoch 38/100\n",
            "15/15 [==============================] - 0s 5ms/step - loss: -65800916.0000 - accuracy: 0.0545\n",
            "Epoch 39/100\n",
            "15/15 [==============================] - 0s 5ms/step - loss: -70566544.0000 - accuracy: 0.0545\n",
            "Epoch 40/100\n",
            "15/15 [==============================] - 0s 5ms/step - loss: -75454640.0000 - accuracy: 0.0545\n",
            "Epoch 41/100\n",
            "15/15 [==============================] - 0s 4ms/step - loss: -80637544.0000 - accuracy: 0.0545\n",
            "Epoch 42/100\n",
            "15/15 [==============================] - 0s 5ms/step - loss: -86050136.0000 - accuracy: 0.0545\n",
            "Epoch 43/100\n",
            "15/15 [==============================] - 0s 4ms/step - loss: -91536944.0000 - accuracy: 0.0545\n",
            "Epoch 44/100\n",
            "15/15 [==============================] - 0s 4ms/step - loss: -97151624.0000 - accuracy: 0.0545\n",
            "Epoch 45/100\n",
            "15/15 [==============================] - 0s 4ms/step - loss: -103189864.0000 - accuracy: 0.0545\n",
            "Epoch 46/100\n",
            "15/15 [==============================] - 0s 4ms/step - loss: -109564936.0000 - accuracy: 0.0545\n",
            "Epoch 47/100\n",
            "15/15 [==============================] - 0s 3ms/step - loss: -116043600.0000 - accuracy: 0.0545\n",
            "Epoch 48/100\n",
            "15/15 [==============================] - 0s 4ms/step - loss: -122919192.0000 - accuracy: 0.0545\n",
            "Epoch 49/100\n",
            "15/15 [==============================] - 0s 4ms/step - loss: -130033680.0000 - accuracy: 0.0545\n",
            "Epoch 50/100\n",
            "15/15 [==============================] - 0s 4ms/step - loss: -137310048.0000 - accuracy: 0.0545\n",
            "Epoch 51/100\n",
            "15/15 [==============================] - 0s 4ms/step - loss: -144868864.0000 - accuracy: 0.0545\n",
            "Epoch 52/100\n",
            "15/15 [==============================] - 0s 4ms/step - loss: -152725632.0000 - accuracy: 0.0545\n",
            "Epoch 53/100\n",
            "15/15 [==============================] - 0s 4ms/step - loss: -160815424.0000 - accuracy: 0.0545\n",
            "Epoch 54/100\n",
            "15/15 [==============================] - 0s 5ms/step - loss: -169218656.0000 - accuracy: 0.0545\n",
            "Epoch 55/100\n",
            "15/15 [==============================] - 0s 5ms/step - loss: -177886816.0000 - accuracy: 0.0545\n",
            "Epoch 56/100\n",
            "15/15 [==============================] - 0s 6ms/step - loss: -186955632.0000 - accuracy: 0.0545\n",
            "Epoch 57/100\n",
            "15/15 [==============================] - 0s 5ms/step - loss: -196246656.0000 - accuracy: 0.0545\n",
            "Epoch 58/100\n",
            "15/15 [==============================] - 0s 5ms/step - loss: -205917248.0000 - accuracy: 0.0545\n",
            "Epoch 59/100\n",
            "15/15 [==============================] - 0s 6ms/step - loss: -215632512.0000 - accuracy: 0.0545\n",
            "Epoch 60/100\n",
            "15/15 [==============================] - 0s 5ms/step - loss: -225664608.0000 - accuracy: 0.0545\n",
            "Epoch 61/100\n",
            "15/15 [==============================] - 0s 5ms/step - loss: -236180704.0000 - accuracy: 0.0545\n",
            "Epoch 62/100\n",
            "15/15 [==============================] - 0s 5ms/step - loss: -247009840.0000 - accuracy: 0.0545\n",
            "Epoch 63/100\n",
            "15/15 [==============================] - 0s 5ms/step - loss: -258208272.0000 - accuracy: 0.0545\n",
            "Epoch 64/100\n",
            "15/15 [==============================] - 0s 6ms/step - loss: -269680704.0000 - accuracy: 0.0545\n",
            "Epoch 65/100\n",
            "15/15 [==============================] - 0s 5ms/step - loss: -281233184.0000 - accuracy: 0.0545\n",
            "Epoch 66/100\n",
            "15/15 [==============================] - 0s 5ms/step - loss: -293128576.0000 - accuracy: 0.0545\n",
            "Epoch 67/100\n",
            "15/15 [==============================] - 0s 5ms/step - loss: -305640032.0000 - accuracy: 0.0545\n",
            "Epoch 68/100\n",
            "15/15 [==============================] - 0s 5ms/step - loss: -318515392.0000 - accuracy: 0.0545\n",
            "Epoch 69/100\n",
            "15/15 [==============================] - 0s 4ms/step - loss: -331592576.0000 - accuracy: 0.0545\n",
            "Epoch 70/100\n",
            "15/15 [==============================] - 0s 5ms/step - loss: -345264096.0000 - accuracy: 0.0545\n",
            "Epoch 71/100\n",
            "15/15 [==============================] - 0s 5ms/step - loss: -358824192.0000 - accuracy: 0.0545\n",
            "Epoch 72/100\n",
            "15/15 [==============================] - 0s 5ms/step - loss: -373123264.0000 - accuracy: 0.0545\n",
            "Epoch 73/100\n",
            "15/15 [==============================] - 0s 5ms/step - loss: -387650016.0000 - accuracy: 0.0545\n",
            "Epoch 74/100\n",
            "15/15 [==============================] - 0s 5ms/step - loss: -402421888.0000 - accuracy: 0.0545\n",
            "Epoch 75/100\n",
            "15/15 [==============================] - 0s 5ms/step - loss: -417453472.0000 - accuracy: 0.0545\n",
            "Epoch 76/100\n"
          ]
        },
        {
          "name": "stdout",
          "output_type": "stream",
          "text": [
            "15/15 [==============================] - 0s 5ms/step - loss: -433233856.0000 - accuracy: 0.0545\n",
            "Epoch 77/100\n",
            "15/15 [==============================] - 0s 5ms/step - loss: -449564928.0000 - accuracy: 0.0545\n",
            "Epoch 78/100\n",
            "15/15 [==============================] - 0s 5ms/step - loss: -465973632.0000 - accuracy: 0.0545\n",
            "Epoch 79/100\n",
            "15/15 [==============================] - 0s 5ms/step - loss: -482534272.0000 - accuracy: 0.0545\n",
            "Epoch 80/100\n",
            "15/15 [==============================] - 0s 5ms/step - loss: -499965504.0000 - accuracy: 0.0545\n",
            "Epoch 81/100\n",
            "15/15 [==============================] - 0s 5ms/step - loss: -517664512.0000 - accuracy: 0.0545\n",
            "Epoch 82/100\n",
            "15/15 [==============================] - 0s 5ms/step - loss: -535746336.0000 - accuracy: 0.0545\n",
            "Epoch 83/100\n",
            "15/15 [==============================] - 0s 5ms/step - loss: -554350080.0000 - accuracy: 0.0545\n",
            "Epoch 84/100\n",
            "15/15 [==============================] - 0s 5ms/step - loss: -573119488.0000 - accuracy: 0.0545\n",
            "Epoch 85/100\n",
            "15/15 [==============================] - 0s 5ms/step - loss: -592316608.0000 - accuracy: 0.0545\n",
            "Epoch 86/100\n",
            "15/15 [==============================] - 0s 5ms/step - loss: -611879168.0000 - accuracy: 0.0545\n",
            "Epoch 87/100\n",
            "15/15 [==============================] - 0s 6ms/step - loss: -632318464.0000 - accuracy: 0.0545\n",
            "Epoch 88/100\n",
            "15/15 [==============================] - 0s 6ms/step - loss: -653462016.0000 - accuracy: 0.0545\n",
            "Epoch 89/100\n",
            "15/15 [==============================] - 0s 6ms/step - loss: -674376448.0000 - accuracy: 0.0545\n",
            "Epoch 90/100\n",
            "15/15 [==============================] - 0s 5ms/step - loss: -695947264.0000 - accuracy: 0.0545\n",
            "Epoch 91/100\n",
            "15/15 [==============================] - 0s 5ms/step - loss: -717538240.0000 - accuracy: 0.0545\n",
            "Epoch 92/100\n",
            "15/15 [==============================] - 0s 6ms/step - loss: -739955200.0000 - accuracy: 0.0545\n",
            "Epoch 93/100\n",
            "15/15 [==============================] - 0s 5ms/step - loss: -762725696.0000 - accuracy: 0.0545\n",
            "Epoch 94/100\n",
            "15/15 [==============================] - 0s 6ms/step - loss: -786069120.0000 - accuracy: 0.0545\n",
            "Epoch 95/100\n",
            "15/15 [==============================] - 0s 6ms/step - loss: -809942912.0000 - accuracy: 0.0545\n",
            "Epoch 96/100\n",
            "15/15 [==============================] - 0s 6ms/step - loss: -834262528.0000 - accuracy: 0.0545\n",
            "Epoch 97/100\n",
            "15/15 [==============================] - 0s 6ms/step - loss: -859146240.0000 - accuracy: 0.0545\n",
            "Epoch 98/100\n",
            "15/15 [==============================] - 0s 6ms/step - loss: -884197568.0000 - accuracy: 0.0545\n",
            "Epoch 99/100\n",
            "15/15 [==============================] - 0s 6ms/step - loss: -909867776.0000 - accuracy: 0.0545\n",
            "Epoch 100/100\n",
            "15/15 [==============================] - 0s 6ms/step - loss: -936212672.0000 - accuracy: 0.0545\n"
          ]
        },
        {
          "data": {
            "text/plain": [
              "<keras.callbacks.History at 0x2adc519bdc0>"
            ]
          },
          "execution_count": 32,
          "metadata": {},
          "output_type": "execute_result"
        }
      ],
      "source": [
        "network.fit(X_train,y_train,epochs=100,batch_size=32)"
      ]
    },
    {
      "cell_type": "markdown",
      "id": "1622c04d",
      "metadata": {
        "id": "1622c04d"
      },
      "source": [
        "# Correlation Matrix"
      ]
    },
    {
      "cell_type": "code",
      "execution_count": null,
      "id": "b0cff594",
      "metadata": {
        "id": "b0cff594",
        "outputId": "d5a1381e-3de6-4025-8ab0-73704291d4f3"
      },
      "outputs": [
        {
          "data": {
            "text/plain": [
              "<AxesSubplot:>"
            ]
          },
          "execution_count": 33,
          "metadata": {},
          "output_type": "execute_result"
        },
        {
          "data": {
            "image/png": "[encoded data removed]",
            "text/plain": [
              "<Figure size 2000x1000 with 2 Axes>"
            ]
          },
          "metadata": {},
          "output_type": "display_data"
        }
      ],
      "source": [
        "plt.figure(figsize=(20,10))\n",
        "sns.heatmap(data.corr(),annot=True)"
      ]
    },
    {
      "cell_type": "code",
      "execution_count": null,
      "id": "ba22d887",
      "metadata": {
        "id": "ba22d887"
      },
      "outputs": [],
      "source": [
        "def correlation(dataset,threshold):\n",
        "    col_corr=set()\n",
        "    corr_matrix=dataset.corr()\n",
        "    for i in range(len(corr_matrix.columns)):\n",
        "        for j in range(i):\n",
        "            if abs(corr_matrix.iloc[i,j])>threshold:\n",
        "                colname=corr_matrix.columns[i]\n",
        "                col_corr.add(colname)\n",
        "    return col_corr"
      ]
    },
    {
      "cell_type": "code",
      "execution_count": null,
      "id": "064cfdf8",
      "metadata": {
        "id": "064cfdf8",
        "outputId": "78ed0825-6063-4f9f-cd55-afafd435a2eb"
      },
      "outputs": [
        {
          "data": {
            "text/plain": [
              "0"
            ]
          },
          "execution_count": 35,
          "metadata": {},
          "output_type": "execute_result"
        }
      ],
      "source": [
        "corr_features=correlation(data,0.7)\n",
        "len(set(corr_features))"
      ]
    },
    {
      "cell_type": "markdown",
      "id": "88da2077",
      "metadata": {
        "id": "88da2077"
      },
      "source": [
        "# Logistic Regression"
      ]
    },
    {
      "cell_type": "code",
      "execution_count": null,
      "id": "c1465205",
      "metadata": {
        "id": "c1465205"
      },
      "outputs": [],
      "source": [
        "from sklearn.metrics import confusion_matrix, classification_report\n",
        "from sklearn.linear_model import LogisticRegression"
      ]
    },
    {
      "cell_type": "code",
      "execution_count": null,
      "id": "9bbe043b",
      "metadata": {
        "id": "9bbe043b",
        "outputId": "7e2bc40d-d825-4d79-ca85-5d364283221e"
      },
      "outputs": [
        {
          "name": "stdout",
          "output_type": "stream",
          "text": [
            "[[7 0 0 0 4 0 2 0 0 0 0 0 2]\n",
            " [1 0 0 0 1 0 0 1 0 0 0 0 1]\n",
            " [5 0 0 0 5 0 2 0 0 2 0 2 2]\n",
            " [0 0 0 0 0 0 0 2 0 0 0 0 2]\n",
            " [1 0 0 0 6 0 0 0 0 1 0 0 1]\n",
            " [0 0 0 0 1 0 0 1 0 0 0 0 2]\n",
            " [2 0 0 0 2 0 3 2 0 1 0 0 3]\n",
            " [3 0 0 0 2 0 0 5 0 0 0 2 1]\n",
            " [0 0 0 0 1 0 0 0 0 0 0 0 1]\n",
            " [6 0 0 0 2 0 2 3 0 0 0 4 1]\n",
            " [0 0 0 0 0 0 0 0 0 0 0 0 2]\n",
            " [1 0 0 0 0 0 1 1 0 0 0 4 2]\n",
            " [0 0 0 0 0 0 0 0 0 0 0 1 3]]\n",
            "              precision    recall  f1-score   support\n",
            "\n",
            "           0       0.27      0.47      0.34        15\n",
            "           1       0.00      0.00      0.00         4\n",
            "           2       0.00      0.00      0.00        18\n",
            "           3       0.00      0.00      0.00         4\n",
            "           4       0.25      0.67      0.36         9\n",
            "           5       0.00      0.00      0.00         4\n",
            "           6       0.30      0.23      0.26        13\n",
            "           7       0.33      0.38      0.36        13\n",
            "           8       0.00      0.00      0.00         2\n",
            "           9       0.00      0.00      0.00        18\n",
            "          10       0.00      0.00      0.00         2\n",
            "          11       0.31      0.44      0.36         9\n",
            "          12       0.13      0.75      0.22         4\n",
            "\n",
            "    accuracy                           0.24       115\n",
            "   macro avg       0.12      0.23      0.15       115\n",
            "weighted avg       0.15      0.24      0.18       115\n",
            "\n",
            "Accuracy of logistic regression classifier on test set: 24.3478\n"
          ]
        },
        {
          "name": "stderr",
          "output_type": "stream",
          "text": [
            "C:\\Users\\SREEJA\\anaconda3\\lib\\site-packages\\sklearn\\linear_model\\_logistic.py:814: ConvergenceWarning: lbfgs failed to converge (status=1):\n",
            "STOP: TOTAL NO. of ITERATIONS REACHED LIMIT.\n",
            "\n",
            "Increase the number of iterations (max_iter) or scale the data as shown in:\n",
            "    https://scikit-learn.org/stable/modules/preprocessing.html\n",
            "Please also refer to the documentation for alternative solver options:\n",
            "    https://scikit-learn.org/stable/modules/linear_model.html#logistic-regression\n",
            "  n_iter_i = _check_optimize_result(\n",
            "C:\\Users\\SREEJA\\anaconda3\\lib\\site-packages\\sklearn\\metrics\\_classification.py:1318: UndefinedMetricWarning: Precision and F-score are ill-defined and being set to 0.0 in labels with no predicted samples. Use `zero_division` parameter to control this behavior.\n",
            "  _warn_prf(average, modifier, msg_start, len(result))\n",
            "C:\\Users\\SREEJA\\anaconda3\\lib\\site-packages\\sklearn\\metrics\\_classification.py:1318: UndefinedMetricWarning: Precision and F-score are ill-defined and being set to 0.0 in labels with no predicted samples. Use `zero_division` parameter to control this behavior.\n",
            "  _warn_prf(average, modifier, msg_start, len(result))\n",
            "C:\\Users\\SREEJA\\anaconda3\\lib\\site-packages\\sklearn\\metrics\\_classification.py:1318: UndefinedMetricWarning: Precision and F-score are ill-defined and being set to 0.0 in labels with no predicted samples. Use `zero_division` parameter to control this behavior.\n",
            "  _warn_prf(average, modifier, msg_start, len(result))\n"
          ]
        }
      ],
      "source": [
        "logreg = LogisticRegression()\n",
        "logreg.fit(X_train, y_train)\n",
        "y_pred = logreg.predict(X_test)\n",
        "print(confusion_matrix(y_test,y_pred))\n",
        "print(classification_report(y_test,y_pred))\n",
        "print('Accuracy of logistic regression classifier on test set: {:.4f}'.format(logreg.score(X_test, y_test)*100))"
      ]
    },
    {
      "cell_type": "markdown",
      "id": "d1abdef9",
      "metadata": {
        "id": "d1abdef9"
      },
      "source": [
        "# Decision Tree Classifier"
      ]
    },
    {
      "cell_type": "code",
      "execution_count": null,
      "id": "3b6619b3",
      "metadata": {
        "id": "3b6619b3",
        "outputId": "6c504c15-7869-4a9d-ccaa-995ed6c92faf"
      },
      "outputs": [
        {
          "name": "stdout",
          "output_type": "stream",
          "text": [
            "[[15  0  0  0  0  0  0  0  0  0  0  0  0]\n",
            " [ 0  4  0  0  0  0  0  0  0  0  0  0  0]\n",
            " [ 0  2 15  0  0  0  0  0  0  0  0  1  0]\n",
            " [ 0  1  0  0  3  0  0  0  0  0  0  0  0]\n",
            " [ 0  0  0  0  9  0  0  0  0  0  0  0  0]\n",
            " [ 0  0  0  0  4  0  0  0  0  0  0  0  0]\n",
            " [ 0  0  0  0  0  0  6  6  0  1  0  0  0]\n",
            " [ 0  0  0  0  0  0  0 11  0  2  0  0  0]\n",
            " [ 0  0  0  0  0  0  0  2  0  0  0  0  0]\n",
            " [ 0  0  0  0  0  0  3  2  0 11  0  2  0]\n",
            " [ 0  0  1  0  0  0  0  1  0  0  0  0  0]\n",
            " [ 0  0  0  0  0  0  0  0  0  1  0  6  2]\n",
            " [ 0  0  0  0  0  0  0  1  0  0  0  1  2]]\n",
            "              precision    recall  f1-score   support\n",
            "\n",
            "           0       1.00      1.00      1.00        15\n",
            "           1       0.57      1.00      0.73         4\n",
            "           2       0.94      0.83      0.88        18\n",
            "           3       0.00      0.00      0.00         4\n",
            "           4       0.56      1.00      0.72         9\n",
            "           5       0.00      0.00      0.00         4\n",
            "           6       0.67      0.46      0.55        13\n",
            "           7       0.48      0.85      0.61        13\n",
            "           8       0.00      0.00      0.00         2\n",
            "           9       0.73      0.61      0.67        18\n",
            "          10       0.00      0.00      0.00         2\n",
            "          11       0.60      0.67      0.63         9\n",
            "          12       0.50      0.50      0.50         4\n",
            "\n",
            "    accuracy                           0.69       115\n",
            "   macro avg       0.47      0.53      0.48       115\n",
            "weighted avg       0.65      0.69      0.65       115\n",
            "\n",
            "Accuracy of decision tree classifier on test set: 68.6957\n"
          ]
        },
        {
          "name": "stderr",
          "output_type": "stream",
          "text": [
            "C:\\Users\\SREEJA\\anaconda3\\lib\\site-packages\\sklearn\\metrics\\_classification.py:1318: UndefinedMetricWarning: Precision and F-score are ill-defined and being set to 0.0 in labels with no predicted samples. Use `zero_division` parameter to control this behavior.\n",
            "  _warn_prf(average, modifier, msg_start, len(result))\n",
            "C:\\Users\\SREEJA\\anaconda3\\lib\\site-packages\\sklearn\\metrics\\_classification.py:1318: UndefinedMetricWarning: Precision and F-score are ill-defined and being set to 0.0 in labels with no predicted samples. Use `zero_division` parameter to control this behavior.\n",
            "  _warn_prf(average, modifier, msg_start, len(result))\n",
            "C:\\Users\\SREEJA\\anaconda3\\lib\\site-packages\\sklearn\\metrics\\_classification.py:1318: UndefinedMetricWarning: Precision and F-score are ill-defined and being set to 0.0 in labels with no predicted samples. Use `zero_division` parameter to control this behavior.\n",
            "  _warn_prf(average, modifier, msg_start, len(result))\n"
          ]
        }
      ],
      "source": [
        "from sklearn.tree import DecisionTreeClassifier\n",
        "dtree=DecisionTreeClassifier(criterion='entropy',min_samples_leaf=9,min_samples_split=2,random_state=42)\n",
        "dtree.fit(X_train,y_train)\n",
        "dtree.score(X_test,y_test)\n",
        "y_pred = dtree.predict(X_test)\n",
        "print(confusion_matrix(y_test,y_pred))\n",
        "print(classification_report(y_test,y_pred))\n",
        "print('Accuracy of decision tree classifier on test set: {:.4f}'.format(dtree.score(X_test, y_test)*100))"
      ]
    },
    {
      "cell_type": "markdown",
      "id": "f41663ad",
      "metadata": {
        "id": "f41663ad"
      },
      "source": [
        "# Random Forest Classifier"
      ]
    },
    {
      "cell_type": "code",
      "execution_count": null,
      "id": "66253c6e",
      "metadata": {
        "id": "66253c6e",
        "outputId": "ecce99dc-c16d-4796-ab43-577a78af18d5"
      },
      "outputs": [
        {
          "name": "stdout",
          "output_type": "stream",
          "text": [
            "0.7217391304347827\n"
          ]
        }
      ],
      "source": [
        "from sklearn.ensemble import RandomForestClassifier\n",
        "RF = RandomForestClassifier(n_estimators=100,criterion='entropy',min_samples_split=2, max_depth = 6)\n",
        "RF.fit(X_train,y_train)\n",
        "Y_P=RF.predict(X_test)\n",
        "accuracy2=RF.score(X_test,y_test)\n",
        "print(accuracy2)"
      ]
    },
    {
      "cell_type": "code",
      "execution_count": null,
      "id": "64dd9309",
      "metadata": {
        "id": "64dd9309"
      },
      "outputs": [],
      "source": [
        "params = {\n",
        "    'max_depth': [2,3,5,10,20],\n",
        "    'min_samples_leaf': [5,10,20,50,100,200],\n",
        "    'n_estimators': [10,25,30,50,100,200]\n",
        "}"
      ]
    },
    {
      "cell_type": "markdown",
      "id": "a466f8c9",
      "metadata": {
        "id": "a466f8c9"
      },
      "source": [
        "# Hyper tuning of Random Forest"
      ]
    },
    {
      "cell_type": "code",
      "execution_count": null,
      "id": "4f1f0f1f",
      "metadata": {
        "id": "4f1f0f1f"
      },
      "outputs": [],
      "source": [
        "from sklearn.model_selection import GridSearchCV"
      ]
    },
    {
      "cell_type": "code",
      "execution_count": null,
      "id": "b56d0a07",
      "metadata": {
        "id": "b56d0a07"
      },
      "outputs": [],
      "source": [
        "grid_search = GridSearchCV(estimator=RF,\n",
        "                           param_grid=params,\n",
        "                           cv = 4,\n",
        "                           n_jobs=-1, verbose=1, scoring=\"accuracy\")"
      ]
    },
    {
      "cell_type": "code",
      "execution_count": null,
      "id": "16b06a2a",
      "metadata": {
        "id": "16b06a2a",
        "outputId": "ea33087b-2a03-4116-89f2-4ec89e3dfe8d"
      },
      "outputs": [
        {
          "name": "stdout",
          "output_type": "stream",
          "text": [
            "Fitting 4 folds for each of 180 candidates, totalling 720 fits\n"
          ]
        },
        {
          "name": "stderr",
          "output_type": "stream",
          "text": [
            "C:\\Users\\SREEJA\\anaconda3\\lib\\site-packages\\sklearn\\model_selection\\_split.py:676: UserWarning: The least populated class in y has only 2 members, which is less than n_splits=4.\n",
            "  warnings.warn(\n"
          ]
        },
        {
          "data": {
            "text/plain": [
              "GridSearchCV(cv=4,\n",
              "             estimator=RandomForestClassifier(criterion='entropy', max_depth=6),\n",
              "             n_jobs=-1,\n",
              "             param_grid={'max_depth': [2, 3, 5, 10, 20],\n",
              "                         'min_samples_leaf': [5, 10, 20, 50, 100, 200],\n",
              "                         'n_estimators': [10, 25, 30, 50, 100, 200]},\n",
              "             scoring='accuracy', verbose=1)"
            ]
          },
          "execution_count": 43,
          "metadata": {},
          "output_type": "execute_result"
        }
      ],
      "source": [
        "grid_search.fit(X_train, y_train)"
      ]
    },
    {
      "cell_type": "code",
      "execution_count": null,
      "id": "c02d6ead",
      "metadata": {
        "id": "c02d6ead",
        "outputId": "b4af273c-025a-46f3-fc07-840ed52e363e"
      },
      "outputs": [
        {
          "data": {
            "text/plain": [
              "0.7015636918382914"
            ]
          },
          "execution_count": 44,
          "metadata": {},
          "output_type": "execute_result"
        }
      ],
      "source": [
        "grid_search.best_score_"
      ]
    },
    {
      "cell_type": "code",
      "execution_count": null,
      "id": "c32baa6d",
      "metadata": {
        "id": "c32baa6d",
        "outputId": "b8370da6-14bc-44ec-fde6-c54449473f33"
      },
      "outputs": [
        {
          "data": {
            "text/plain": [
              "RandomForestClassifier(criterion='entropy', max_depth=20, min_samples_leaf=5,\n",
              "                       n_estimators=200)"
            ]
          },
          "execution_count": 45,
          "metadata": {},
          "output_type": "execute_result"
        }
      ],
      "source": [
        "rf_best = grid_search.best_estimator_\n",
        "rf_best"
      ]
    },
    {
      "cell_type": "code",
      "execution_count": null,
      "id": "42c573d3",
      "metadata": {
        "id": "42c573d3"
      },
      "outputs": [],
      "source": [
        "classifier_rf = RandomForestClassifier(random_state= 80, n_jobs=-1, max_depth=30,min_samples_leaf=4,\n",
        "                                       n_estimators=30, oob_score=True)"
      ]
    },
    {
      "cell_type": "code",
      "execution_count": null,
      "id": "06ae3f92",
      "metadata": {
        "id": "06ae3f92",
        "outputId": "f022f1ab-cc37-4927-a20e-c8ab46b8fa21"
      },
      "outputs": [
        {
          "data": {
            "text/plain": [
              "RandomForestClassifier(max_depth=30, min_samples_leaf=4, n_estimators=30,\n",
              "                       n_jobs=-1, oob_score=True, random_state=80)"
            ]
          },
          "execution_count": 47,
          "metadata": {},
          "output_type": "execute_result"
        }
      ],
      "source": [
        "classifier_rf.fit(X_train, y_train)"
      ]
    },
    {
      "cell_type": "code",
      "execution_count": null,
      "id": "4f508247",
      "metadata": {
        "id": "4f508247",
        "outputId": "1c7be654-653b-46e9-c398-cb3c3c9c164e"
      },
      "outputs": [
        {
          "data": {
            "text/plain": [
              "0.6623093681917211"
            ]
          },
          "execution_count": 48,
          "metadata": {},
          "output_type": "execute_result"
        }
      ],
      "source": [
        "classifier_rf.oob_score_"
      ]
    },
    {
      "cell_type": "code",
      "execution_count": null,
      "id": "fd94b6dd",
      "metadata": {
        "id": "fd94b6dd"
      },
      "outputs": [],
      "source": [
        "y_pred=classifier_rf.predict(X_test)"
      ]
    },
    {
      "cell_type": "code",
      "execution_count": null,
      "id": "bdd95814",
      "metadata": {
        "id": "bdd95814",
        "outputId": "3b904191-518e-4a20-e370-ce39e6583e7c"
      },
      "outputs": [
        {
          "data": {
            "text/plain": [
              "0.7043478260869566"
            ]
          },
          "execution_count": 50,
          "metadata": {},
          "output_type": "execute_result"
        }
      ],
      "source": [
        "from sklearn.metrics import accuracy_score\n",
        "accuracy_score(y_test,y_pred)"
      ]
    },
    {
      "cell_type": "markdown",
      "id": "61eaa321",
      "metadata": {
        "id": "61eaa321"
      },
      "source": [
        "# Support Vector Machine (SVM)"
      ]
    },
    {
      "cell_type": "code",
      "execution_count": null,
      "id": "7a3d11d2",
      "metadata": {
        "id": "7a3d11d2"
      },
      "outputs": [],
      "source": [
        "from sklearn import svm\n",
        "from sklearn.svm import SVC"
      ]
    },
    {
      "cell_type": "code",
      "execution_count": null,
      "id": "6584a1af",
      "metadata": {
        "id": "6584a1af",
        "outputId": "5a4809fa-424b-4509-a38b-4a0741993a26"
      },
      "outputs": [
        {
          "name": "stdout",
          "output_type": "stream",
          "text": [
            "[[ 0  0  0  0  0  0  0 15  0  0  0  0  0]\n",
            " [ 0  0  0  0  0  0  0  4  0  0  0  0  0]\n",
            " [ 0  0  0  0  0  0  0 18  0  0  0  0  0]\n",
            " [ 0  0  0  0  0  0  0  4  0  0  0  0  0]\n",
            " [ 0  0  0  0  0  0  0  9  0  0  0  0  0]\n",
            " [ 0  0  0  0  0  0  0  4  0  0  0  0  0]\n",
            " [ 0  0  0  0  0  0  0 13  0  0  0  0  0]\n",
            " [ 0  0  0  0  0  0  0 13  0  0  0  0  0]\n",
            " [ 0  0  0  0  0  0  0  2  0  0  0  0  0]\n",
            " [ 0  0  0  0  0  0  0 18  0  0  0  0  0]\n",
            " [ 0  0  0  0  0  0  0  2  0  0  0  0  0]\n",
            " [ 0  0  0  0  0  0  0  9  0  0  0  0  0]\n",
            " [ 0  0  0  0  0  0  0  4  0  0  0  0  0]]\n",
            "              precision    recall  f1-score   support\n",
            "\n",
            "           0       0.00      0.00      0.00        15\n",
            "           1       0.00      0.00      0.00         4\n",
            "           2       0.00      0.00      0.00        18\n",
            "           3       0.00      0.00      0.00         4\n",
            "           4       0.00      0.00      0.00         9\n",
            "           5       0.00      0.00      0.00         4\n",
            "           6       0.00      0.00      0.00        13\n",
            "           7       0.11      1.00      0.20        13\n",
            "           8       0.00      0.00      0.00         2\n",
            "           9       0.00      0.00      0.00        18\n",
            "          10       0.00      0.00      0.00         2\n",
            "          11       0.00      0.00      0.00         9\n",
            "          12       0.00      0.00      0.00         4\n",
            "\n",
            "    accuracy                           0.11       115\n",
            "   macro avg       0.01      0.08      0.02       115\n",
            "weighted avg       0.01      0.11      0.02       115\n",
            "\n",
            "Accuracy of SVM classifier on test set: 11.3043\n"
          ]
        },
        {
          "name": "stderr",
          "output_type": "stream",
          "text": [
            "C:\\Users\\SREEJA\\anaconda3\\lib\\site-packages\\sklearn\\metrics\\_classification.py:1318: UndefinedMetricWarning: Precision and F-score are ill-defined and being set to 0.0 in labels with no predicted samples. Use `zero_division` parameter to control this behavior.\n",
            "  _warn_prf(average, modifier, msg_start, len(result))\n",
            "C:\\Users\\SREEJA\\anaconda3\\lib\\site-packages\\sklearn\\metrics\\_classification.py:1318: UndefinedMetricWarning: Precision and F-score are ill-defined and being set to 0.0 in labels with no predicted samples. Use `zero_division` parameter to control this behavior.\n",
            "  _warn_prf(average, modifier, msg_start, len(result))\n",
            "C:\\Users\\SREEJA\\anaconda3\\lib\\site-packages\\sklearn\\metrics\\_classification.py:1318: UndefinedMetricWarning: Precision and F-score are ill-defined and being set to 0.0 in labels with no predicted samples. Use `zero_division` parameter to control this behavior.\n",
            "  _warn_prf(average, modifier, msg_start, len(result))\n"
          ]
        }
      ],
      "source": [
        "svm=SVC()\n",
        "svm.fit(X_train,y_train)\n",
        "svm.score(X_test,y_test)\n",
        "y_pred = svm.predict(X_test)\n",
        "print(confusion_matrix(y_test,y_pred))\n",
        "print(classification_report(y_test,y_pred))\n",
        "print('Accuracy of SVM classifier on test set: {:.4f}'.format(svm.score(X_test, y_test)*100))"
      ]
    },
    {
      "cell_type": "markdown",
      "id": "b005e014",
      "metadata": {
        "id": "b005e014"
      },
      "source": [
        "# XGBoost"
      ]
    },
    {
      "cell_type": "code",
      "execution_count": null,
      "id": "c7b4fb68",
      "metadata": {
        "id": "c7b4fb68",
        "outputId": "e43f03a3-b26e-4dbf-c54a-406ed0bfdf25"
      },
      "outputs": [
        {
          "name": "stdout",
          "output_type": "stream",
          "text": [
            "Requirement already satisfied: xgboost in c:\\users\\sreeja\\anaconda3\\lib\\site-packages (1.7.5)\n",
            "Requirement already satisfied: scipy in c:\\users\\sreeja\\anaconda3\\lib\\site-packages (from xgboost) (1.9.1)\n",
            "Requirement already satisfied: numpy in c:\\users\\sreeja\\anaconda3\\lib\\site-packages (from xgboost) (1.21.5)\n",
            "Note: you may need to restart the kernel to use updated packages.\n"
          ]
        }
      ],
      "source": [
        "pip install xgboost"
      ]
    },
    {
      "cell_type": "code",
      "execution_count": null,
      "id": "2093fdb7",
      "metadata": {
        "id": "2093fdb7",
        "outputId": "5a81cb4e-1d16-4beb-a143-4e2cec7dcb2e"
      },
      "outputs": [
        {
          "data": {
            "text/plain": [
              "0.9304347826086956"
            ]
          },
          "execution_count": 54,
          "metadata": {},
          "output_type": "execute_result"
        }
      ],
      "source": [
        "from xgboost import XGBClassifier\n",
        "xgb_model = XGBClassifier()\n",
        "xgb_model.fit(X_train,y_train)\n",
        "xgb_model.score(X_test,y_test)\n"
      ]
    },
    {
      "cell_type": "code",
      "execution_count": null,
      "id": "3c731c1c",
      "metadata": {
        "id": "3c731c1c",
        "outputId": "00417c35-c17c-45ed-9f27-6f5ddfcd54e1"
      },
      "outputs": [
        {
          "data": {
            "text/plain": [
              "XGBClassifier(base_score=None, booster=None, callbacks=None,\n",
              "              colsample_bylevel=None, colsample_bynode=None,\n",
              "              colsample_bytree=0.3, early_stopping_rounds=None,\n",
              "              enable_categorical=False, eval_metric=None, feature_types=None,\n",
              "              gamma=0.4, gpu_id=None, grow_policy=None, importance_type=None,\n",
              "              interaction_constraints=None, learning_rate=0.2, max_bin=None,\n",
              "              max_cat_threshold=None, max_cat_to_onehot=None,\n",
              "              max_delta_step=None, max_depth=7, max_leaves=None,\n",
              "              min_child_weight=None, missing=nan, monotone_constraints=None,\n",
              "              n_estimators=100, n_jobs=None, num_parallel_tree=None,\n",
              "              objective='multi:softprob', predictor=None, ...)"
            ]
          },
          "execution_count": 55,
          "metadata": {},
          "output_type": "execute_result"
        }
      ],
      "source": [
        "xbg = XGBClassifier(n_estimators = 100,colsample_bytree=0.3,learning_rate=0.2,gamma=0.4,max_depth=7)\n",
        "xbg.fit(X_train,y_train)"
      ]
    },
    {
      "cell_type": "markdown",
      "id": "0297855c",
      "metadata": {
        "id": "0297855c"
      },
      "source": [
        "# Testing & Predicting"
      ]
    },
    {
      "cell_type": "code",
      "execution_count": null,
      "id": "0b582e2a",
      "metadata": {
        "id": "0b582e2a",
        "outputId": "9aa5ca77-56ce-48e8-f041-508f97db48ba"
      },
      "outputs": [
        {
          "name": "stderr",
          "output_type": "stream",
          "text": [
            "C:\\Users\\SREEJA\\AppData\\Local\\Temp\\ipykernel_23488\\506171136.py:2: SettingWithCopyWarning: \n",
            "A value is trying to be set on a copy of a slice from a DataFrame\n",
            "\n",
            "See the caveats in the documentation: https://pandas.pydata.org/pandas-docs/stable/user_guide/indexing.html#returning-a-view-versus-a-copy\n",
            "  test2.drop(columns= ['winner'],inplace=True)\n"
          ]
        }
      ],
      "source": [
        "test2 = data[-115:]\n",
        "test2.drop(columns= ['winner'],inplace=True)"
      ]
    },
    {
      "cell_type": "code",
      "execution_count": null,
      "id": "d7ed3ec8",
      "metadata": {
        "id": "d7ed3ec8",
        "outputId": "92dcdc36-ec43-4119-81a0-34931079b275"
      },
      "outputs": [
        {
          "data": {
            "text/html": [
              "<div>\n",
              "<style scoped>\n",
              "    .dataframe tbody tr th:only-of-type {\n",
              "        vertical-align: middle;\n",
              "    }\n",
              "\n",
              "    .dataframe tbody tr th {\n",
              "        vertical-align: top;\n",
              "    }\n",
              "\n",
              "    .dataframe thead th {\n",
              "        text-align: right;\n",
              "    }\n",
              "</style>\n",
              "<table border=\"1\" class=\"dataframe\">\n",
              "  <thead>\n",
              "    <tr style=\"text-align: right;\">\n",
              "      <th></th>\n",
              "      <th>season</th>\n",
              "      <th>city</th>\n",
              "      <th>team1</th>\n",
              "      <th>team2</th>\n",
              "      <th>toss_winner</th>\n",
              "      <th>toss_decision</th>\n",
              "      <th>result</th>\n",
              "      <th>win_by_runs</th>\n",
              "      <th>win_by_wickets</th>\n",
              "      <th>player_of_match</th>\n",
              "      <th>venue</th>\n",
              "      <th>umpire1</th>\n",
              "      <th>umpire2</th>\n",
              "    </tr>\n",
              "  </thead>\n",
              "  <tbody>\n",
              "    <tr>\n",
              "      <th>460</th>\n",
              "      <td>2015</td>\n",
              "      <td>25</td>\n",
              "      <td>11</td>\n",
              "      <td>6</td>\n",
              "      <td>6</td>\n",
              "      <td>1</td>\n",
              "      <td>0</td>\n",
              "      <td>26</td>\n",
              "      <td>0</td>\n",
              "      <td>72</td>\n",
              "      <td>16</td>\n",
              "      <td>36</td>\n",
              "      <td>10</td>\n",
              "    </tr>\n",
              "    <tr>\n",
              "      <th>461</th>\n",
              "      <td>2015</td>\n",
              "      <td>7</td>\n",
              "      <td>0</td>\n",
              "      <td>12</td>\n",
              "      <td>0</td>\n",
              "      <td>0</td>\n",
              "      <td>0</td>\n",
              "      <td>45</td>\n",
              "      <td>0</td>\n",
              "      <td>24</td>\n",
              "      <td>15</td>\n",
              "      <td>31</td>\n",
              "      <td>43</td>\n",
              "    </tr>\n",
              "    <tr>\n",
              "      <th>462</th>\n",
              "      <td>2015</td>\n",
              "      <td>21</td>\n",
              "      <td>4</td>\n",
              "      <td>9</td>\n",
              "      <td>9</td>\n",
              "      <td>1</td>\n",
              "      <td>0</td>\n",
              "      <td>0</td>\n",
              "      <td>3</td>\n",
              "      <td>29</td>\n",
              "      <td>7</td>\n",
              "      <td>35</td>\n",
              "      <td>9</td>\n",
              "    </tr>\n",
              "    <tr>\n",
              "      <th>463</th>\n",
              "      <td>2015</td>\n",
              "      <td>9</td>\n",
              "      <td>2</td>\n",
              "      <td>11</td>\n",
              "      <td>11</td>\n",
              "      <td>1</td>\n",
              "      <td>0</td>\n",
              "      <td>0</td>\n",
              "      <td>3</td>\n",
              "      <td>39</td>\n",
              "      <td>8</td>\n",
              "      <td>36</td>\n",
              "      <td>10</td>\n",
              "    </tr>\n",
              "    <tr>\n",
              "      <th>464</th>\n",
              "      <td>2015</td>\n",
              "      <td>22</td>\n",
              "      <td>6</td>\n",
              "      <td>7</td>\n",
              "      <td>7</td>\n",
              "      <td>1</td>\n",
              "      <td>0</td>\n",
              "      <td>18</td>\n",
              "      <td>0</td>\n",
              "      <td>53</td>\n",
              "      <td>34</td>\n",
              "      <td>1</td>\n",
              "      <td>20</td>\n",
              "    </tr>\n",
              "  </tbody>\n",
              "</table>\n",
              "</div>"
            ],
            "text/plain": [
              "     season  city  team1  team2  toss_winner  toss_decision  result  \\\n",
              "460    2015    25     11      6            6              1       0   \n",
              "461    2015     7      0     12            0              0       0   \n",
              "462    2015    21      4      9            9              1       0   \n",
              "463    2015     9      2     11           11              1       0   \n",
              "464    2015    22      6      7            7              1       0   \n",
              "\n",
              "     win_by_runs  win_by_wickets  player_of_match  venue  umpire1  umpire2  \n",
              "460           26               0               72     16       36       10  \n",
              "461           45               0               24     15       31       43  \n",
              "462            0               3               29      7       35        9  \n",
              "463            0               3               39      8       36       10  \n",
              "464           18               0               53     34        1       20  "
            ]
          },
          "execution_count": 57,
          "metadata": {},
          "output_type": "execute_result"
        }
      ],
      "source": [
        "test2.head()"
      ]
    },
    {
      "cell_type": "code",
      "execution_count": null,
      "id": "a01f7e03",
      "metadata": {
        "id": "a01f7e03"
      },
      "outputs": [],
      "source": [
        "preds = xbg.predict(test2)"
      ]
    },
    {
      "cell_type": "code",
      "execution_count": null,
      "id": "d41a3da0",
      "metadata": {
        "id": "d41a3da0"
      },
      "outputs": [],
      "source": [
        "new_preds = le.inverse_transform(preds)"
      ]
    },
    {
      "cell_type": "code",
      "execution_count": null,
      "id": "2a19fc22",
      "metadata": {
        "id": "2a19fc22"
      },
      "outputs": [],
      "source": [
        "winner=[]\n",
        "for i in range(60):\n",
        "    if list(test2.team1)[i] == preds[i]:\n",
        "        winner.append(1)\n",
        "    else:\n",
        "        winner.append(2)"
      ]
    },
    {
      "cell_type": "code",
      "execution_count": null,
      "id": "40ae7e7f",
      "metadata": {
        "id": "40ae7e7f",
        "outputId": "302e3cf0-b979-4162-d0cf-94223fb1a867"
      },
      "outputs": [
        {
          "data": {
            "text/plain": [
              "[1,\n",
              " 1,\n",
              " 2,\n",
              " 2,\n",
              " 1,\n",
              " 2,\n",
              " 2,\n",
              " 2,\n",
              " 2,\n",
              " 2,\n",
              " 2,\n",
              " 2,\n",
              " 2,\n",
              " 2,\n",
              " 1,\n",
              " 2,\n",
              " 2,\n",
              " 1,\n",
              " 1,\n",
              " 1,\n",
              " 2,\n",
              " 1,\n",
              " 1,\n",
              " 2,\n",
              " 1,\n",
              " 1,\n",
              " 1,\n",
              " 2,\n",
              " 1,\n",
              " 2,\n",
              " 1,\n",
              " 1,\n",
              " 1,\n",
              " 1,\n",
              " 1,\n",
              " 2,\n",
              " 1,\n",
              " 1,\n",
              " 2,\n",
              " 2,\n",
              " 1,\n",
              " 1,\n",
              " 1,\n",
              " 1,\n",
              " 2,\n",
              " 1,\n",
              " 1,\n",
              " 2,\n",
              " 2,\n",
              " 1,\n",
              " 2,\n",
              " 1,\n",
              " 1,\n",
              " 2,\n",
              " 1,\n",
              " 2,\n",
              " 2,\n",
              " 2,\n",
              " 1,\n",
              " 2]"
            ]
          },
          "execution_count": 61,
          "metadata": {},
          "output_type": "execute_result"
        }
      ],
      "source": [
        "winner"
      ]
    }
  ],
  "metadata": {
    "kernelspec": {
      "display_name": "Python 3 (ipykernel)",
      "language": "python",
      "name": "python3"
    },
    "language_info": {
      "codemirror_mode": {
        "name": "ipython",
        "version": 3
      },
      "file_extension": ".py",
      "mimetype": "text/x-python",
      "name": "python",
      "nbconvert_exporter": "python",
      "pygments_lexer": "ipython3",
      "version": "3.9.13"
    },
    "colab": {
      "provenance": []
    }
  },
  "nbformat": 4,
  "nbformat_minor": 5
}